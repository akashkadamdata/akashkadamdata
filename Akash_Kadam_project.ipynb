{
 "cells": [
  {
   "cell_type": "code",
   "execution_count": 1,
   "id": "329bb245",
   "metadata": {},
   "outputs": [
    {
     "name": "stdout",
     "output_type": "stream",
     "text": [
      "Requirement already satisfied: pyspark in c:\\users\\hp\\anaconda3\\lib\\site-packages (3.3.0)\n",
      "Requirement already satisfied: py4j==0.10.9.5 in c:\\users\\hp\\anaconda3\\lib\\site-packages (from pyspark) (0.10.9.5)\n"
     ]
    }
   ],
   "source": [
    "!pip install pyspark"
   ]
  },
  {
   "cell_type": "code",
   "execution_count": 2,
   "id": "54b51f7d",
   "metadata": {},
   "outputs": [
    {
     "name": "stdout",
     "output_type": "stream",
     "text": [
      "Requirement already satisfied: pymongo in c:\\users\\hp\\anaconda3\\lib\\site-packages (4.2.0)\n"
     ]
    }
   ],
   "source": [
    "!pip install pymongo"
   ]
  },
  {
   "cell_type": "code",
   "execution_count": 3,
   "id": "d24a7005",
   "metadata": {},
   "outputs": [],
   "source": [
    "import pandas as pd\n",
    "import pyspark\n",
    "from pyspark.sql import SparkSession\n",
    "from pyspark import SparkFiles\n",
    "from pyspark.sql.types import DateType\n",
    "from pyspark.sql import functions as f\n",
    "import findspark\n",
    "findspark.init()\n",
    "\n",
    "import pyspark # only run after findspark.init()\n",
    "from pyspark.sql import SparkSession\n",
    "from pyspark import SparkFiles\n",
    "\n",
    "import pandas as pd\n",
    "import numpy as np\n",
    "import seaborn as sns\n",
    "import matplotlib.pyplot as plt\n",
    "import pymongo\n",
    "import pickle\n",
    "from pymongo import MongoClient\n",
    "from sklearn.model_selection import train_test_split\n",
    "from sklearn.ensemble import RandomForestClassifier\n",
    "from sklearn.metrics import accuracy_score"
   ]
  },
  {
   "cell_type": "code",
   "execution_count": 4,
   "id": "c3aa28b8",
   "metadata": {},
   "outputs": [],
   "source": [
    "spark = SparkSession \\\n",
    "    .builder \\\n",
    "    .appName(\"Flight-Price-Prediction\") \\\n",
    "    .config(\"spark.mongodb.input.uri\", \"mongodb://127.0.0.1/test.coll\") \\\n",
    "    .config(\"spark.mongodb.output.uri\", \"mongodb://127.0.0.1/test.coll\") \\\n",
    "    .config('spark.jars.packages', 'org.mongodb.spark:mongo-spark-connector_2.12:3.0.1').getOrCreate()"
   ]
  },
  {
   "cell_type": "code",
   "execution_count": 5,
   "id": "32b629d2",
   "metadata": {},
   "outputs": [],
   "source": [
    "url = \"https://raw.githubusercontent.com/sdhumal2902/Flight_Dataset/main/Data_Train.csv\""
   ]
  },
  {
   "cell_type": "code",
   "execution_count": 6,
   "id": "c8d85486",
   "metadata": {},
   "outputs": [],
   "source": [
    "spark.sparkContext.addFile(url)"
   ]
  },
  {
   "cell_type": "code",
   "execution_count": 7,
   "id": "9682129d",
   "metadata": {},
   "outputs": [],
   "source": [
    "train_data = spark.read.csv(SparkFiles.get(\"Data_Train.csv\"), inferSchema=True, header=True)"
   ]
  },
  {
   "cell_type": "code",
   "execution_count": 8,
   "id": "fbc8bb8d",
   "metadata": {},
   "outputs": [
    {
     "name": "stdout",
     "output_type": "stream",
     "text": [
      "+-----------------+-------------------+--------+-----------+--------------------+-------------------+-------------------+--------+-----------+--------------------+-----+\n",
      "|          Airline|    Date_of_Journey|  Source|Destination|               Route|           Dep_Time|       Arrival_Time|Duration|Total_Stops|     Additional_Info|Price|\n",
      "+-----------------+-------------------+--------+-----------+--------------------+-------------------+-------------------+--------+-----------+--------------------+-----+\n",
      "|           IndiGo|2019-03-24 00:00:00|Banglore|  New Delhi|           BLR ? DEL|2022-09-20 22:20:00|2022-09-20 01:10:00|  2h 50m|   non-stop|             No info| 3897|\n",
      "|        Air India|2019-05-01 00:00:00| Kolkata|   Banglore|CCU ? IXR ? BBI ?...|2022-09-20 05:50:00|2022-09-20 13:15:00|  7h 25m|    2 stops|             No info| 7662|\n",
      "|      Jet Airways|2019-06-09 00:00:00|   Delhi|     Cochin|DEL ? LKO ? BOM ?...|2022-09-20 09:25:00|2022-09-20 04:25:00|     19h|    2 stops|             No info|13882|\n",
      "|           IndiGo|2019-05-12 00:00:00| Kolkata|   Banglore|     CCU ? NAG ? BLR|2022-09-20 18:05:00|2022-09-20 23:30:00|  5h 25m|     1 stop|             No info| 6218|\n",
      "|           IndiGo|2019-03-01 00:00:00|Banglore|  New Delhi|     BLR ? NAG ? DEL|2022-09-20 16:50:00|2022-09-20 21:35:00|  4h 45m|     1 stop|             No info|13302|\n",
      "|         SpiceJet|2019-06-24 00:00:00| Kolkata|   Banglore|           CCU ? BLR|2022-09-20 09:00:00|2022-09-20 11:25:00|  2h 25m|   non-stop|             No info| 3873|\n",
      "|      Jet Airways|2019-03-12 00:00:00|Banglore|  New Delhi|     BLR ? BOM ? DEL|2022-09-20 18:55:00|2022-09-20 10:25:00| 15h 30m|     1 stop|In-flight meal no...|11087|\n",
      "|      Jet Airways|2019-03-01 00:00:00|Banglore|  New Delhi|     BLR ? BOM ? DEL|2022-09-20 08:00:00|2022-09-20 05:05:00|  21h 5m|     1 stop|             No info|22270|\n",
      "|      Jet Airways|2019-03-12 00:00:00|Banglore|  New Delhi|     BLR ? BOM ? DEL|2022-09-20 08:55:00|2022-09-20 10:25:00| 25h 30m|     1 stop|In-flight meal no...|11087|\n",
      "|Multiple carriers|2019-05-27 00:00:00|   Delhi|     Cochin|     DEL ? BOM ? COK|2022-09-20 11:25:00|2022-09-20 19:15:00|  7h 50m|     1 stop|             No info| 8625|\n",
      "|        Air India|2019-06-01 00:00:00|   Delhi|     Cochin|     DEL ? BLR ? COK|2022-09-20 09:45:00|2022-09-20 23:00:00| 13h 15m|     1 stop|             No info| 8907|\n",
      "|           IndiGo|2019-04-18 00:00:00| Kolkata|   Banglore|           CCU ? BLR|2022-09-20 20:20:00|2022-09-20 22:55:00|  2h 35m|   non-stop|             No info| 4174|\n",
      "|        Air India|2019-06-24 00:00:00| Chennai|    Kolkata|           MAA ? CCU|2022-09-20 11:40:00|2022-09-20 13:55:00|  2h 15m|   non-stop|             No info| 4667|\n",
      "|      Jet Airways|2019-05-09 00:00:00| Kolkata|   Banglore|     CCU ? BOM ? BLR|2022-09-20 21:10:00|2022-09-20 09:20:00| 12h 10m|     1 stop|In-flight meal no...| 9663|\n",
      "|           IndiGo|2019-04-24 00:00:00| Kolkata|   Banglore|           CCU ? BLR|2022-09-20 17:15:00|2022-09-20 19:50:00|  2h 35m|   non-stop|             No info| 4804|\n",
      "|        Air India|2019-03-03 00:00:00|   Delhi|     Cochin|DEL ? AMD ? BOM ?...|2022-09-20 16:40:00|2022-09-20 19:15:00| 26h 35m|    2 stops|             No info|14011|\n",
      "|         SpiceJet|2019-04-15 00:00:00|   Delhi|     Cochin|     DEL ? PNQ ? COK|2022-09-20 08:45:00|2022-09-20 13:15:00|  4h 30m|     1 stop|             No info| 5830|\n",
      "|      Jet Airways|2019-06-12 00:00:00|   Delhi|     Cochin|     DEL ? BOM ? COK|2022-09-20 14:00:00|2022-09-20 12:35:00| 22h 35m|     1 stop|In-flight meal no...|10262|\n",
      "|        Air India|2019-06-12 00:00:00|   Delhi|     Cochin|DEL ? CCU ? BOM ?...|2022-09-20 20:15:00|2022-09-20 19:15:00|     23h|    2 stops|             No info|13381|\n",
      "|      Jet Airways|2019-05-27 00:00:00|   Delhi|     Cochin|     DEL ? BOM ? COK|2022-09-20 16:00:00|2022-09-20 12:35:00| 20h 35m|     1 stop|In-flight meal no...|12898|\n",
      "+-----------------+-------------------+--------+-----------+--------------------+-------------------+-------------------+--------+-----------+--------------------+-----+\n",
      "only showing top 20 rows\n",
      "\n"
     ]
    }
   ],
   "source": [
    "train_data.show()"
   ]
  },
  {
   "cell_type": "code",
   "execution_count": 9,
   "id": "13745a2c",
   "metadata": {},
   "outputs": [
    {
     "name": "stdout",
     "output_type": "stream",
     "text": [
      "root\n",
      " |-- Airline: string (nullable = true)\n",
      " |-- Date_of_Journey: timestamp (nullable = true)\n",
      " |-- Source: string (nullable = true)\n",
      " |-- Destination: string (nullable = true)\n",
      " |-- Route: string (nullable = true)\n",
      " |-- Dep_Time: timestamp (nullable = true)\n",
      " |-- Arrival_Time: timestamp (nullable = true)\n",
      " |-- Duration: string (nullable = true)\n",
      " |-- Total_Stops: string (nullable = true)\n",
      " |-- Additional_Info: string (nullable = true)\n",
      " |-- Price: integer (nullable = true)\n",
      "\n"
     ]
    }
   ],
   "source": [
    "train_data.printSchema()"
   ]
  },
  {
   "cell_type": "code",
   "execution_count": 10,
   "id": "9bc0ea06",
   "metadata": {},
   "outputs": [],
   "source": [
    "from pyspark.sql.types import DateType\n",
    "train_data = train_data.withColumn(\"Date_of_Journey\", train_data[\"Date_of_Journey\"].cast(DateType()))"
   ]
  },
  {
   "cell_type": "code",
   "execution_count": 11,
   "id": "0ef208bb",
   "metadata": {},
   "outputs": [
    {
     "name": "stdout",
     "output_type": "stream",
     "text": [
      "root\n",
      " |-- Airline: string (nullable = true)\n",
      " |-- Date_of_Journey: date (nullable = true)\n",
      " |-- Source: string (nullable = true)\n",
      " |-- Destination: string (nullable = true)\n",
      " |-- Route: string (nullable = true)\n",
      " |-- Dep_Time: timestamp (nullable = true)\n",
      " |-- Arrival_Time: timestamp (nullable = true)\n",
      " |-- Duration: string (nullable = true)\n",
      " |-- Total_Stops: string (nullable = true)\n",
      " |-- Additional_Info: string (nullable = true)\n",
      " |-- Price: integer (nullable = true)\n",
      "\n",
      "+---------------+\n",
      "|Date_of_Journey|\n",
      "+---------------+\n",
      "|     2019-03-24|\n",
      "|     2019-05-01|\n",
      "|     2019-06-09|\n",
      "|     2019-05-12|\n",
      "|     2019-03-01|\n",
      "|     2019-06-24|\n",
      "|     2019-03-12|\n",
      "|     2019-03-01|\n",
      "|     2019-03-12|\n",
      "|     2019-05-27|\n",
      "|     2019-06-01|\n",
      "|     2019-04-18|\n",
      "|     2019-06-24|\n",
      "|     2019-05-09|\n",
      "|     2019-04-24|\n",
      "|     2019-03-03|\n",
      "|     2019-04-15|\n",
      "|     2019-06-12|\n",
      "|     2019-06-12|\n",
      "|     2019-05-27|\n",
      "+---------------+\n",
      "only showing top 20 rows\n",
      "\n"
     ]
    }
   ],
   "source": [
    "train_data.printSchema()\n",
    "train_data.select('Date_of_Journey').show()"
   ]
  },
  {
   "cell_type": "code",
   "execution_count": 12,
   "id": "c3204106",
   "metadata": {},
   "outputs": [
    {
     "data": {
      "text/plain": [
       "['Airline',\n",
       " 'Date_of_Journey',\n",
       " 'Source',\n",
       " 'Destination',\n",
       " 'Route',\n",
       " 'Dep_Time',\n",
       " 'Arrival_Time',\n",
       " 'Duration',\n",
       " 'Total_Stops',\n",
       " 'Additional_Info',\n",
       " 'Price']"
      ]
     },
     "execution_count": 12,
     "metadata": {},
     "output_type": "execute_result"
    }
   ],
   "source": [
    "train_data.count()\n",
    "train_data.columns"
   ]
  },
  {
   "cell_type": "code",
   "execution_count": 13,
   "id": "a564406e",
   "metadata": {},
   "outputs": [],
   "source": [
    "url_fest = \"https://raw.githubusercontent.com/sdhumal2902/Flight_Dataset/main/2019.csv\""
   ]
  },
  {
   "cell_type": "code",
   "execution_count": 14,
   "id": "68de397c",
   "metadata": {},
   "outputs": [],
   "source": [
    "spark.sparkContext.addFile(url_fest)"
   ]
  },
  {
   "cell_type": "code",
   "execution_count": 15,
   "id": "bb8e77e9",
   "metadata": {},
   "outputs": [],
   "source": [
    "fs_data = spark.read.csv(SparkFiles.get(\"2019.csv\"), inferSchema=True, header=True)"
   ]
  },
  {
   "cell_type": "code",
   "execution_count": 16,
   "id": "7b0a013d",
   "metadata": {},
   "outputs": [
    {
     "data": {
      "text/plain": [
       "StructType([StructField('date', TimestampType(), True), StructField('day', StringType(), True), StructField('holiday', StringType(), True), StructField('holiday_type', StringType(), True)])"
      ]
     },
     "execution_count": 16,
     "metadata": {},
     "output_type": "execute_result"
    }
   ],
   "source": [
    "fs_data.schema"
   ]
  },
  {
   "cell_type": "code",
   "execution_count": 17,
   "id": "72f2a215",
   "metadata": {},
   "outputs": [],
   "source": [
    "fs_data = fs_data.drop('holiday_type', 'day')"
   ]
  },
  {
   "cell_type": "code",
   "execution_count": 18,
   "id": "63ce9d11",
   "metadata": {},
   "outputs": [
    {
     "name": "stdout",
     "output_type": "stream",
     "text": [
      "+-------------------+--------------------+\n",
      "|               date|             holiday|\n",
      "+-------------------+--------------------+\n",
      "|2019-01-01 00:00:00|  New Year's Day (R)|\n",
      "|2019-01-13 00:00:00|Guru Gobind Singh...|\n",
      "|2019-01-14 00:00:00| Makar Sankranti (R)|\n",
      "|2019-01-15 00:00:00|          Pongal (R)|\n",
      "|2019-01-26 00:00:00|    Republic Day (G)|\n",
      "|2019-02-10 00:00:00|Basant Panchami /...|\n",
      "|2019-02-19 00:00:00|Guru Ravidas's Bi...|\n",
      "|2019-03-01 00:00:00|Swami Dayananda S...|\n",
      "|2019-03-04 00:00:00| Maha Shivaratri (G)|\n",
      "|2019-03-20 00:00:00|    Holika Dahan (R)|\n",
      "|2019-03-21 00:00:00|        Dolyatra (R)|\n",
      "|2019-04-06 00:00:00|Chaitra Sukladi/ ...|\n",
      "|2019-04-13 00:00:00|Ram Navami (Smart...|\n",
      "|2019-04-14 00:00:00|Vaisakhi/ Vishu/ ...|\n",
      "|2019-04-15 00:00:00|Vaisakhadi (Benga...|\n",
      "|2019-04-17 00:00:00| Mahavir Jayanti (G)|\n",
      "|2019-04-19 00:00:00|     Good Friday (G)|\n",
      "|2019-04-21 00:00:00|   Easter Sunday (R)|\n",
      "|2019-05-09 00:00:00|Guru Rabindranath...|\n",
      "|2019-05-18 00:00:00|  Buddha Purnima (G)|\n",
      "+-------------------+--------------------+\n",
      "only showing top 20 rows\n",
      "\n"
     ]
    }
   ],
   "source": [
    "fs_data.show()"
   ]
  },
  {
   "cell_type": "code",
   "execution_count": 19,
   "id": "f11331bf",
   "metadata": {},
   "outputs": [],
   "source": [
    "from pyspark.sql.types import DateType\n",
    "fs_data = fs_data.withColumn(\"date\", fs_data[\"date\"].cast(DateType()))"
   ]
  },
  {
   "cell_type": "code",
   "execution_count": 20,
   "id": "3a58a459",
   "metadata": {},
   "outputs": [
    {
     "name": "stdout",
     "output_type": "stream",
     "text": [
      "root\n",
      " |-- date: date (nullable = true)\n",
      " |-- holiday: string (nullable = true)\n",
      "\n"
     ]
    }
   ],
   "source": [
    "fs_data.printSchema()"
   ]
  },
  {
   "cell_type": "code",
   "execution_count": 21,
   "id": "9d64da42",
   "metadata": {},
   "outputs": [
    {
     "name": "stdout",
     "output_type": "stream",
     "text": [
      "+----------+--------------------+\n",
      "|      date|             holiday|\n",
      "+----------+--------------------+\n",
      "|2019-01-01|  New Year's Day (R)|\n",
      "|2019-01-13|Guru Gobind Singh...|\n",
      "|2019-01-14| Makar Sankranti (R)|\n",
      "|2019-01-15|          Pongal (R)|\n",
      "|2019-01-26|    Republic Day (G)|\n",
      "|2019-02-10|Basant Panchami /...|\n",
      "|2019-02-19|Guru Ravidas's Bi...|\n",
      "|2019-03-01|Swami Dayananda S...|\n",
      "|2019-03-04| Maha Shivaratri (G)|\n",
      "|2019-03-20|    Holika Dahan (R)|\n",
      "|2019-03-21|        Dolyatra (R)|\n",
      "|2019-04-06|Chaitra Sukladi/ ...|\n",
      "|2019-04-13|Ram Navami (Smart...|\n",
      "|2019-04-14|Vaisakhi/ Vishu/ ...|\n",
      "|2019-04-15|Vaisakhadi (Benga...|\n",
      "|2019-04-17| Mahavir Jayanti (G)|\n",
      "|2019-04-19|     Good Friday (G)|\n",
      "|2019-04-21|   Easter Sunday (R)|\n",
      "|2019-05-09|Guru Rabindranath...|\n",
      "|2019-05-18|  Buddha Purnima (G)|\n",
      "+----------+--------------------+\n",
      "only showing top 20 rows\n",
      "\n"
     ]
    }
   ],
   "source": [
    "fs_data.show()"
   ]
  },
  {
   "cell_type": "code",
   "execution_count": 22,
   "id": "7fde27ff",
   "metadata": {},
   "outputs": [
    {
     "data": {
      "text/plain": [
       "['date', 'holiday']"
      ]
     },
     "execution_count": 22,
     "metadata": {},
     "output_type": "execute_result"
    }
   ],
   "source": [
    "fs_data.columns"
   ]
  },
  {
   "cell_type": "code",
   "execution_count": 23,
   "id": "b1a6dcb7",
   "metadata": {},
   "outputs": [
    {
     "name": "stdout",
     "output_type": "stream",
     "text": [
      "+-----------------+---------------+--------+-----------+--------------------+-------------------+-------------------+--------+-----------+--------------------+-----+----------+--------------------+\n",
      "|          Airline|Date_of_Journey|  Source|Destination|               Route|           Dep_Time|       Arrival_Time|Duration|Total_Stops|     Additional_Info|Price|      date|             holiday|\n",
      "+-----------------+---------------+--------+-----------+--------------------+-------------------+-------------------+--------+-----------+--------------------+-----+----------+--------------------+\n",
      "|           IndiGo|     2019-03-24|Banglore|  New Delhi|           BLR ? DEL|2022-09-20 22:20:00|2022-09-20 01:10:00|  2h 50m|   non-stop|             No info| 3897|      null|                null|\n",
      "|        Air India|     2019-05-01| Kolkata|   Banglore|CCU ? IXR ? BBI ?...|2022-09-20 05:50:00|2022-09-20 13:15:00|  7h 25m|    2 stops|             No info| 7662|      null|                null|\n",
      "|      Jet Airways|     2019-06-09|   Delhi|     Cochin|DEL ? LKO ? BOM ?...|2022-09-20 09:25:00|2022-09-20 04:25:00|     19h|    2 stops|             No info|13882|      null|                null|\n",
      "|           IndiGo|     2019-05-12| Kolkata|   Banglore|     CCU ? NAG ? BLR|2022-09-20 18:05:00|2022-09-20 23:30:00|  5h 25m|     1 stop|             No info| 6218|      null|                null|\n",
      "|           IndiGo|     2019-03-01|Banglore|  New Delhi|     BLR ? NAG ? DEL|2022-09-20 16:50:00|2022-09-20 21:35:00|  4h 45m|     1 stop|             No info|13302|2019-03-01|Swami Dayananda S...|\n",
      "|         SpiceJet|     2019-06-24| Kolkata|   Banglore|           CCU ? BLR|2022-09-20 09:00:00|2022-09-20 11:25:00|  2h 25m|   non-stop|             No info| 3873|      null|                null|\n",
      "|      Jet Airways|     2019-03-12|Banglore|  New Delhi|     BLR ? BOM ? DEL|2022-09-20 18:55:00|2022-09-20 10:25:00| 15h 30m|     1 stop|In-flight meal no...|11087|      null|                null|\n",
      "|      Jet Airways|     2019-03-01|Banglore|  New Delhi|     BLR ? BOM ? DEL|2022-09-20 08:00:00|2022-09-20 05:05:00|  21h 5m|     1 stop|             No info|22270|2019-03-01|Swami Dayananda S...|\n",
      "|      Jet Airways|     2019-03-12|Banglore|  New Delhi|     BLR ? BOM ? DEL|2022-09-20 08:55:00|2022-09-20 10:25:00| 25h 30m|     1 stop|In-flight meal no...|11087|      null|                null|\n",
      "|Multiple carriers|     2019-05-27|   Delhi|     Cochin|     DEL ? BOM ? COK|2022-09-20 11:25:00|2022-09-20 19:15:00|  7h 50m|     1 stop|             No info| 8625|      null|                null|\n",
      "|        Air India|     2019-06-01|   Delhi|     Cochin|     DEL ? BLR ? COK|2022-09-20 09:45:00|2022-09-20 23:00:00| 13h 15m|     1 stop|             No info| 8907|      null|                null|\n",
      "|           IndiGo|     2019-04-18| Kolkata|   Banglore|           CCU ? BLR|2022-09-20 20:20:00|2022-09-20 22:55:00|  2h 35m|   non-stop|             No info| 4174|      null|                null|\n",
      "|        Air India|     2019-06-24| Chennai|    Kolkata|           MAA ? CCU|2022-09-20 11:40:00|2022-09-20 13:55:00|  2h 15m|   non-stop|             No info| 4667|      null|                null|\n",
      "|      Jet Airways|     2019-05-09| Kolkata|   Banglore|     CCU ? BOM ? BLR|2022-09-20 21:10:00|2022-09-20 09:20:00| 12h 10m|     1 stop|In-flight meal no...| 9663|2019-05-09|Guru Rabindranath...|\n",
      "|           IndiGo|     2019-04-24| Kolkata|   Banglore|           CCU ? BLR|2022-09-20 17:15:00|2022-09-20 19:50:00|  2h 35m|   non-stop|             No info| 4804|      null|                null|\n",
      "|        Air India|     2019-03-03|   Delhi|     Cochin|DEL ? AMD ? BOM ?...|2022-09-20 16:40:00|2022-09-20 19:15:00| 26h 35m|    2 stops|             No info|14011|      null|                null|\n",
      "|         SpiceJet|     2019-04-15|   Delhi|     Cochin|     DEL ? PNQ ? COK|2022-09-20 08:45:00|2022-09-20 13:15:00|  4h 30m|     1 stop|             No info| 5830|2019-04-15|Vaisakhadi (Benga...|\n",
      "|      Jet Airways|     2019-06-12|   Delhi|     Cochin|     DEL ? BOM ? COK|2022-09-20 14:00:00|2022-09-20 12:35:00| 22h 35m|     1 stop|In-flight meal no...|10262|      null|                null|\n",
      "|        Air India|     2019-06-12|   Delhi|     Cochin|DEL ? CCU ? BOM ?...|2022-09-20 20:15:00|2022-09-20 19:15:00|     23h|    2 stops|             No info|13381|      null|                null|\n",
      "|      Jet Airways|     2019-05-27|   Delhi|     Cochin|     DEL ? BOM ? COK|2022-09-20 16:00:00|2022-09-20 12:35:00| 20h 35m|     1 stop|In-flight meal no...|12898|      null|                null|\n",
      "+-----------------+---------------+--------+-----------+--------------------+-------------------+-------------------+--------+-----------+--------------------+-----+----------+--------------------+\n",
      "only showing top 20 rows\n",
      "\n"
     ]
    }
   ],
   "source": [
    "train_data = train_data.join(fs_data, train_data.Date_of_Journey == fs_data.date,how='left')\n",
    "train_data.show()"
   ]
  },
  {
   "cell_type": "code",
   "execution_count": 24,
   "id": "a67139e2",
   "metadata": {},
   "outputs": [
    {
     "data": {
      "text/plain": [
       "['Airline',\n",
       " 'Date_of_Journey',\n",
       " 'Source',\n",
       " 'Destination',\n",
       " 'Route',\n",
       " 'Dep_Time',\n",
       " 'Arrival_Time',\n",
       " 'Duration',\n",
       " 'Total_Stops',\n",
       " 'Additional_Info',\n",
       " 'Price',\n",
       " 'date',\n",
       " 'holiday']"
      ]
     },
     "execution_count": 24,
     "metadata": {},
     "output_type": "execute_result"
    }
   ],
   "source": [
    "train_data.count()\n",
    "train_data.columns"
   ]
  },
  {
   "cell_type": "code",
   "execution_count": 25,
   "id": "c55898f5",
   "metadata": {},
   "outputs": [
    {
     "name": "stdout",
     "output_type": "stream",
     "text": [
      "+---------------+-----------+\n",
      "|Date_of_Journey|    holiday|\n",
      "+---------------+-----------+\n",
      "|     2019-03-24|Non Holiday|\n",
      "|     2019-05-01|Non Holiday|\n",
      "|     2019-06-09|Non Holiday|\n",
      "|     2019-05-12|Non Holiday|\n",
      "|     2019-03-01|    Holiday|\n",
      "|     2019-06-24|Non Holiday|\n",
      "|     2019-03-12|Non Holiday|\n",
      "|     2019-03-01|    Holiday|\n",
      "|     2019-03-12|Non Holiday|\n",
      "|     2019-05-27|Non Holiday|\n",
      "|     2019-06-01|Non Holiday|\n",
      "|     2019-04-18|Non Holiday|\n",
      "|     2019-06-24|Non Holiday|\n",
      "|     2019-05-09|    Holiday|\n",
      "|     2019-04-24|Non Holiday|\n",
      "|     2019-03-03|Non Holiday|\n",
      "|     2019-04-15|    Holiday|\n",
      "|     2019-06-12|Non Holiday|\n",
      "|     2019-06-12|Non Holiday|\n",
      "|     2019-05-27|Non Holiday|\n",
      "+---------------+-----------+\n",
      "only showing top 20 rows\n",
      "\n"
     ]
    }
   ],
   "source": [
    "from pyspark.sql.functions import when, col\n",
    "train_data = train_data.withColumn(\"holiday\", when(train_data.holiday != \"null\", \"Holiday\").otherwise(\"Non Holiday\"))\n",
    "train_data.select('Date_of_Journey', 'holiday').show()"
   ]
  },
  {
   "cell_type": "code",
   "execution_count": 26,
   "id": "ee054237",
   "metadata": {},
   "outputs": [
    {
     "data": {
      "text/plain": [
       "['Airline',\n",
       " 'Date_of_Journey',\n",
       " 'Source',\n",
       " 'Destination',\n",
       " 'Route',\n",
       " 'Dep_Time',\n",
       " 'Arrival_Time',\n",
       " 'Duration',\n",
       " 'Total_Stops',\n",
       " 'Additional_Info',\n",
       " 'Price',\n",
       " 'holiday']"
      ]
     },
     "execution_count": 26,
     "metadata": {},
     "output_type": "execute_result"
    }
   ],
   "source": [
    "train_data = train_data.drop('date')\n",
    "train_data.columns"
   ]
  },
  {
   "cell_type": "code",
   "execution_count": 27,
   "id": "8f3a98c5",
   "metadata": {},
   "outputs": [
    {
     "name": "stdout",
     "output_type": "stream",
     "text": [
      "+---------------+---+\n",
      "|Date_of_Journey|day|\n",
      "+---------------+---+\n",
      "|     2019-03-24|Sun|\n",
      "|     2019-05-01|Wed|\n",
      "|     2019-06-09|Sun|\n",
      "|     2019-05-12|Sun|\n",
      "|     2019-03-01|Fri|\n",
      "|     2019-06-24|Mon|\n",
      "|     2019-03-12|Tue|\n",
      "|     2019-03-01|Fri|\n",
      "|     2019-03-12|Tue|\n",
      "|     2019-05-27|Mon|\n",
      "|     2019-06-01|Sat|\n",
      "|     2019-04-18|Thu|\n",
      "|     2019-06-24|Mon|\n",
      "|     2019-05-09|Thu|\n",
      "|     2019-04-24|Wed|\n",
      "|     2019-03-03|Sun|\n",
      "|     2019-04-15|Mon|\n",
      "|     2019-06-12|Wed|\n",
      "|     2019-06-12|Wed|\n",
      "|     2019-05-27|Mon|\n",
      "+---------------+---+\n",
      "only showing top 20 rows\n",
      "\n"
     ]
    }
   ],
   "source": [
    "train_data = train_data.withColumn(\"day\", f.date_format(\"Date_of_Journey\", \"E\"))\n",
    "train_data.select('Date_of_Journey', 'day').show()"
   ]
  },
  {
   "cell_type": "code",
   "execution_count": 28,
   "id": "eefaa7c3",
   "metadata": {},
   "outputs": [
    {
     "name": "stdout",
     "output_type": "stream",
     "text": [
      "+---------------+-------+\n",
      "|Date_of_Journey|    day|\n",
      "+---------------+-------+\n",
      "|     2019-03-24|Weekend|\n",
      "|     2019-05-01|Weekday|\n",
      "|     2019-06-09|Weekend|\n",
      "|     2019-05-12|Weekend|\n",
      "|     2019-03-01|Weekday|\n",
      "|     2019-06-24|Weekday|\n",
      "|     2019-03-12|Weekday|\n",
      "|     2019-03-01|Weekday|\n",
      "|     2019-03-12|Weekday|\n",
      "|     2019-05-27|Weekday|\n",
      "|     2019-06-01|Weekend|\n",
      "|     2019-04-18|Weekday|\n",
      "|     2019-06-24|Weekday|\n",
      "|     2019-05-09|Weekday|\n",
      "|     2019-04-24|Weekday|\n",
      "|     2019-03-03|Weekend|\n",
      "|     2019-04-15|Weekday|\n",
      "|     2019-06-12|Weekday|\n",
      "|     2019-06-12|Weekday|\n",
      "|     2019-05-27|Weekday|\n",
      "+---------------+-------+\n",
      "only showing top 20 rows\n",
      "\n"
     ]
    }
   ],
   "source": [
    "train_data = train_data.withColumn(\"day\", when(train_data.day == \"Sat\", \"Weekend\").when(train_data.day == \"Sun\", \"Weekend\").otherwise(\"Weekday\"))\n",
    "train_data.select('Date_of_Journey', 'day').show()"
   ]
  },
  {
   "cell_type": "code",
   "execution_count": 29,
   "id": "e1b2c81b",
   "metadata": {},
   "outputs": [
    {
     "data": {
      "text/plain": [
       "['Airline',\n",
       " 'Date_of_Journey',\n",
       " 'Source',\n",
       " 'Destination',\n",
       " 'Route',\n",
       " 'Dep_Time',\n",
       " 'Arrival_Time',\n",
       " 'Duration',\n",
       " 'Total_Stops',\n",
       " 'Additional_Info',\n",
       " 'Price',\n",
       " 'holiday',\n",
       " 'day']"
      ]
     },
     "execution_count": 29,
     "metadata": {},
     "output_type": "execute_result"
    }
   ],
   "source": [
    "train_data = train_data.drop(\"date\")\n",
    "train_data.columns"
   ]
  },
  {
   "cell_type": "code",
   "execution_count": 30,
   "id": "cd857aa2",
   "metadata": {},
   "outputs": [],
   "source": [
    "from pyspark.sql.functions import *\n",
    "from datetime import datetime\n",
    "import pyspark.sql.functions as sqlFunc\n",
    "import pyspark.sql.types as types\n",
    "from pyspark.sql import functions as F\n",
    "from pyspark.sql.functions import to_timestamp"
   ]
  },
  {
   "cell_type": "code",
   "execution_count": 31,
   "id": "2f938a75",
   "metadata": {},
   "outputs": [
    {
     "name": "stdout",
     "output_type": "stream",
     "text": [
      "root\n",
      " |-- Airline: string (nullable = true)\n",
      " |-- Source: string (nullable = true)\n",
      " |-- Destination: string (nullable = true)\n",
      " |-- Route: string (nullable = true)\n",
      " |-- Dep_Time: timestamp (nullable = true)\n",
      " |-- Arrival_Time: timestamp (nullable = true)\n",
      " |-- Duration: string (nullable = true)\n",
      " |-- Total_Stops: string (nullable = true)\n",
      " |-- Additional_Info: string (nullable = true)\n",
      " |-- Price: integer (nullable = true)\n",
      " |-- holiday: string (nullable = false)\n",
      " |-- day: string (nullable = false)\n",
      " |-- Journey_Day: integer (nullable = true)\n",
      " |-- Journey_Month: integer (nullable = true)\n",
      "\n",
      "+-----------+-------------+\n",
      "|Journey_Day|Journey_Month|\n",
      "+-----------+-------------+\n",
      "|         24|            3|\n",
      "|          1|            5|\n",
      "|          9|            6|\n",
      "|         12|            5|\n",
      "|          1|            3|\n",
      "|         24|            6|\n",
      "|         12|            3|\n",
      "|          1|            3|\n",
      "|         12|            3|\n",
      "|         27|            5|\n",
      "|          1|            6|\n",
      "|         18|            4|\n",
      "|         24|            6|\n",
      "|          9|            5|\n",
      "|         24|            4|\n",
      "|          3|            3|\n",
      "|         15|            4|\n",
      "|         12|            6|\n",
      "|         12|            6|\n",
      "|         27|            5|\n",
      "+-----------+-------------+\n",
      "only showing top 20 rows\n",
      "\n"
     ]
    }
   ],
   "source": [
    "# Journey Day\n",
    "train_data = train_data.withColumn('Journey_Day', dayofmonth('Date_of_Journey'))\n",
    "\n",
    "# Journey Month\n",
    "train_data = train_data.withColumn('Journey_Month',month('Date_of_Journey'))\n",
    "\n",
    "train_data = train_data.drop('Date_of_Journey')\n",
    "\n",
    "train_data.printSchema()\n",
    "train_data.select('Journey_Day','Journey_Month').show()"
   ]
  },
  {
   "cell_type": "code",
   "execution_count": 32,
   "id": "9c71d52c",
   "metadata": {},
   "outputs": [
    {
     "name": "stdout",
     "output_type": "stream",
     "text": [
      "+--------+----------+\n",
      "|Dep_Hour|Dep_Minute|\n",
      "+--------+----------+\n",
      "|      22|        20|\n",
      "|       5|        50|\n",
      "|       9|        25|\n",
      "|      18|         5|\n",
      "|      16|        50|\n",
      "|       9|         0|\n",
      "|      18|        55|\n",
      "|       8|         0|\n",
      "|       8|        55|\n",
      "|      11|        25|\n",
      "|       9|        45|\n",
      "|      20|        20|\n",
      "|      11|        40|\n",
      "|      21|        10|\n",
      "|      17|        15|\n",
      "|      16|        40|\n",
      "|       8|        45|\n",
      "|      14|         0|\n",
      "|      20|        15|\n",
      "|      16|         0|\n",
      "+--------+----------+\n",
      "only showing top 20 rows\n",
      "\n"
     ]
    }
   ],
   "source": [
    "# Split Hour from Dep_Time column\n",
    "train_data = train_data.withColumn('Dep_Hour',hour('Dep_Time'))\n",
    "\n",
    "# Split minute from Dep_Time column\n",
    "train_data = train_data.withColumn('Dep_Minute',minute('Dep_Time'))\n",
    "\n",
    "train_data = train_data.drop('Dep_Time')\n",
    "\n",
    "train_data.select('Dep_Hour', 'Dep_Minute').show()"
   ]
  },
  {
   "cell_type": "code",
   "execution_count": 33,
   "id": "45ebbce5",
   "metadata": {},
   "outputs": [
    {
     "name": "stdout",
     "output_type": "stream",
     "text": [
      "+------------+-----------+\n",
      "|Arrival_hour|Arrival_min|\n",
      "+------------+-----------+\n",
      "|           1|         10|\n",
      "|          13|         15|\n",
      "|           4|         25|\n",
      "|          23|         30|\n",
      "|          21|         35|\n",
      "|          11|         25|\n",
      "|          10|         25|\n",
      "|           5|          5|\n",
      "|          10|         25|\n",
      "|          19|         15|\n",
      "|          23|          0|\n",
      "|          22|         55|\n",
      "|          13|         55|\n",
      "|           9|         20|\n",
      "|          19|         50|\n",
      "|          19|         15|\n",
      "|          13|         15|\n",
      "|          12|         35|\n",
      "|          19|         15|\n",
      "|          12|         35|\n",
      "+------------+-----------+\n",
      "only showing top 20 rows\n",
      "\n"
     ]
    }
   ],
   "source": [
    "# Split Hour from Arrival_Time column\n",
    "train_data = train_data.withColumn('Arrival_hour',hour('Arrival_Time'))\n",
    "\n",
    "# Split minute from Arrival_Time column\n",
    "train_data = train_data.withColumn('Arrival_min',minute('Arrival_Time'))\n",
    "\n",
    "# To reduce the redendancy we droped Arrival_Time.\n",
    "train_data = train_data.drop('Arrival_Time')\n",
    "\n",
    "train_data.select('Arrival_hour', 'Arrival_min').show()"
   ]
  },
  {
   "cell_type": "code",
   "execution_count": 34,
   "id": "af382f32",
   "metadata": {},
   "outputs": [
    {
     "name": "stdout",
     "output_type": "stream",
     "text": [
      "+-------------+---------------+\n",
      "|Duration_Hour|Duration_Minute|\n",
      "+-------------+---------------+\n",
      "|           2h|            50m|\n",
      "|           7h|            25m|\n",
      "|          19h|           null|\n",
      "|           5h|            25m|\n",
      "|           4h|            45m|\n",
      "|           2h|            25m|\n",
      "|          15h|            30m|\n",
      "|          21h|             5m|\n",
      "|          25h|            30m|\n",
      "|           7h|            50m|\n",
      "|          13h|            15m|\n",
      "|           2h|            35m|\n",
      "|           2h|            15m|\n",
      "|          12h|            10m|\n",
      "|           2h|            35m|\n",
      "|          26h|            35m|\n",
      "|           4h|            30m|\n",
      "|          22h|            35m|\n",
      "|          23h|           null|\n",
      "|          20h|            35m|\n",
      "+-------------+---------------+\n",
      "only showing top 20 rows\n",
      "\n"
     ]
    }
   ],
   "source": [
    "# Split hour and minute from duration column\n",
    "train_data = train_data.withColumn('Duration_Hour', split(train_data['Duration'], ' ').getItem(0)).withColumn('Duration_Minute', split(train_data['Duration'],' ').getItem(1))\n",
    "\n",
    "train_data.select('Duration_Hour',\"Duration_Minute\").show()"
   ]
  },
  {
   "cell_type": "code",
   "execution_count": 35,
   "id": "5110d8f6",
   "metadata": {},
   "outputs": [
    {
     "name": "stdout",
     "output_type": "stream",
     "text": [
      "+-------------+---------------+\n",
      "|Duration_Hour|Duration_Minute|\n",
      "+-------------+---------------+\n",
      "|           2h|            50m|\n",
      "|           7h|            25m|\n",
      "|          19h|             0m|\n",
      "|           5h|            25m|\n",
      "|           4h|            45m|\n",
      "|           2h|            25m|\n",
      "|          15h|            30m|\n",
      "|          21h|             5m|\n",
      "|          25h|            30m|\n",
      "|           7h|            50m|\n",
      "|          13h|            15m|\n",
      "|           2h|            35m|\n",
      "|           2h|            15m|\n",
      "|          12h|            10m|\n",
      "|           2h|            35m|\n",
      "|          26h|            35m|\n",
      "|           4h|            30m|\n",
      "|          22h|            35m|\n",
      "|          23h|             0m|\n",
      "|          20h|            35m|\n",
      "+-------------+---------------+\n",
      "only showing top 20 rows\n",
      "\n"
     ]
    }
   ],
   "source": [
    "# Handle null values in Duration_Hour \n",
    "train_data = train_data.withColumn(\"Duration_Hour\", expr(\"CASE WHEN Duration_Hour IS NULL THEN '0h' \" +  \"ELSE Duration_Hour END\"))\n",
    "\n",
    "# Handle null values in Duration_Minute\n",
    "train_data = train_data.withColumn(\"Duration_Minute\", expr(\"CASE WHEN Duration_Minute IS NULL THEN '0m' \" +  \"ELSE Duration_Minute END\"))\n",
    "\n",
    "train_data= train_data.drop('Duration')\n",
    "train_data.columns\n",
    "\n",
    "train_data.select('Duration_Hour','Duration_Minute').show()"
   ]
  },
  {
   "cell_type": "code",
   "execution_count": 36,
   "id": "ae2b6f21",
   "metadata": {},
   "outputs": [
    {
     "name": "stdout",
     "output_type": "stream",
     "text": [
      "+-------------+---------------+\n",
      "|Duration_Hour|Duration_Minute|\n",
      "+-------------+---------------+\n",
      "|            2|             50|\n",
      "|            7|             25|\n",
      "|           19|              0|\n",
      "|            5|             25|\n",
      "|            4|             45|\n",
      "|            2|             25|\n",
      "|           15|             30|\n",
      "|           21|              5|\n",
      "|           25|             30|\n",
      "|            7|             50|\n",
      "|           13|             15|\n",
      "|            2|             35|\n",
      "|            2|             15|\n",
      "|           12|             10|\n",
      "|            2|             35|\n",
      "|           26|             35|\n",
      "|            4|             30|\n",
      "|           22|             35|\n",
      "|           23|              0|\n",
      "|           20|             35|\n",
      "+-------------+---------------+\n",
      "only showing top 20 rows\n",
      "\n"
     ]
    }
   ],
   "source": [
    "# get values minute \n",
    "train_data = train_data.withColumn(\"Duration_Minute\", regexp_extract(\"Duration_Minute\", r'(\\d+)m' , 1 ))\n",
    "\n",
    "# get values hour\n",
    "train_data = train_data.withColumn(\"Duration_Hour\", regexp_extract(\"Duration_Hour\", r'(\\d+)h' , 1 ))\n",
    "\n",
    "train_data.select('Duration_Hour','Duration_Minute').show()"
   ]
  },
  {
   "cell_type": "code",
   "execution_count": 37,
   "id": "4780b800",
   "metadata": {},
   "outputs": [
    {
     "name": "stdout",
     "output_type": "stream",
     "text": [
      "root\n",
      " |-- Airline: string (nullable = true)\n",
      " |-- Source: string (nullable = true)\n",
      " |-- Destination: string (nullable = true)\n",
      " |-- Route: string (nullable = true)\n",
      " |-- Total_Stops: string (nullable = true)\n",
      " |-- Additional_Info: string (nullable = true)\n",
      " |-- Price: integer (nullable = true)\n",
      " |-- holiday: string (nullable = false)\n",
      " |-- day: string (nullable = false)\n",
      " |-- Journey_Day: integer (nullable = true)\n",
      " |-- Journey_Month: integer (nullable = true)\n",
      " |-- Dep_Hour: integer (nullable = true)\n",
      " |-- Dep_Minute: integer (nullable = true)\n",
      " |-- Arrival_hour: integer (nullable = true)\n",
      " |-- Arrival_min: integer (nullable = true)\n",
      " |-- Duration_Hour: string (nullable = true)\n",
      " |-- Duration_Minute: string (nullable = true)\n",
      "\n"
     ]
    }
   ],
   "source": [
    "train_data= train_data.drop('Duration')\n",
    "train_data.printSchema()"
   ]
  },
  {
   "cell_type": "code",
   "execution_count": 38,
   "id": "53979e69",
   "metadata": {},
   "outputs": [
    {
     "name": "stdout",
     "output_type": "stream",
     "text": [
      "+-------------+---------------+\n",
      "|Duration_Hour|Duration_Minute|\n",
      "+-------------+---------------+\n",
      "|            2|              2|\n",
      "|            7|              7|\n",
      "|           19|             19|\n",
      "|            5|              5|\n",
      "|            4|              4|\n",
      "|            2|              2|\n",
      "|           15|             15|\n",
      "|           21|             21|\n",
      "|           25|             25|\n",
      "|            7|              7|\n",
      "|           13|             13|\n",
      "|            2|              2|\n",
      "|            2|              2|\n",
      "|           12|             12|\n",
      "|            2|              2|\n",
      "|           26|             26|\n",
      "|            4|              4|\n",
      "|           22|             22|\n",
      "|           23|             23|\n",
      "|           20|             20|\n",
      "+-------------+---------------+\n",
      "only showing top 20 rows\n",
      "\n"
     ]
    }
   ],
   "source": [
    "from pyspark.sql.types import IntegerType\n",
    "train_data = train_data.withColumn('Duration_Hour', train_data.Duration_Hour.cast(IntegerType()))\n",
    "\n",
    "train_data = train_data.withColumn('Duration_Minute', train_data.Duration_Hour.cast(IntegerType()))\n",
    "\n",
    "train_data.select('Duration_Hour','Duration_Minute').show()"
   ]
  },
  {
   "cell_type": "code",
   "execution_count": 39,
   "id": "dbddc0ef",
   "metadata": {},
   "outputs": [
    {
     "name": "stdout",
     "output_type": "stream",
     "text": [
      "+-------+------+-----------+-----+-----------+---------------+-----+-------+---+-----------+-------------+--------+----------+------------+-----------+-------------+---------------+\n",
      "|Airline|Source|Destination|Route|Total_Stops|Additional_Info|Price|holiday|day|Journey_Day|Journey_Month|Dep_Hour|Dep_Minute|Arrival_hour|Arrival_min|Duration_Hour|Duration_Minute|\n",
      "+-------+------+-----------+-----+-----------+---------------+-----+-------+---+-----------+-------------+--------+----------+------------+-----------+-------------+---------------+\n",
      "|      0|     0|          0|    1|          1|              0|    0|      0|  0|          0|            0|       0|         0|           0|          0|            1|              1|\n",
      "+-------+------+-----------+-----+-----------+---------------+-----+-------+---+-----------+-------------+--------+----------+------------+-----------+-------------+---------------+\n",
      "\n"
     ]
    }
   ],
   "source": [
    "from pyspark.sql.functions import isnan, when, count, col\n",
    "train_data.select([count(when(col(c).isNull(), c)).alias(c) for c in train_data.columns]).show()"
   ]
  },
  {
   "cell_type": "code",
   "execution_count": 40,
   "id": "a726cb71",
   "metadata": {},
   "outputs": [],
   "source": [
    "### Drop rows with NA or missing values in pyspark\n",
    "train_data = train_data.na.drop()"
   ]
  },
  {
   "cell_type": "code",
   "execution_count": 41,
   "id": "69e03ed8",
   "metadata": {},
   "outputs": [
    {
     "name": "stdout",
     "output_type": "stream",
     "text": [
      "+-------+------+-----------+-----+-----------+---------------+-----+-------+---+-----------+-------------+--------+----------+------------+-----------+-------------+---------------+\n",
      "|Airline|Source|Destination|Route|Total_Stops|Additional_Info|Price|holiday|day|Journey_Day|Journey_Month|Dep_Hour|Dep_Minute|Arrival_hour|Arrival_min|Duration_Hour|Duration_Minute|\n",
      "+-------+------+-----------+-----+-----------+---------------+-----+-------+---+-----------+-------------+--------+----------+------------+-----------+-------------+---------------+\n",
      "|      0|     0|          0|    0|          0|              0|    0|      0|  0|          0|            0|       0|         0|           0|          0|            0|              0|\n",
      "+-------+------+-----------+-----+-----------+---------------+-----+-------+---+-----------+-------------+--------+----------+------------+-----------+-------------+---------------+\n",
      "\n"
     ]
    }
   ],
   "source": [
    "from pyspark.sql.functions import isnan, when, count, col\n",
    "train_data.select([count(when(col(c).isNull(), c)).alias(c) for c in train_data.columns]).show()"
   ]
  },
  {
   "cell_type": "code",
   "execution_count": 42,
   "id": "8afcaddb",
   "metadata": {},
   "outputs": [
    {
     "name": "stdout",
     "output_type": "stream",
     "text": [
      "+---------------------------+\n",
      "|count(DISTINCT Total_Stops)|\n",
      "+---------------------------+\n",
      "|                          5|\n",
      "+---------------------------+\n",
      "\n"
     ]
    }
   ],
   "source": [
    "train_data.select(countDistinct('Total_Stops')).show()"
   ]
  },
  {
   "cell_type": "code",
   "execution_count": 43,
   "id": "ce673c8a",
   "metadata": {},
   "outputs": [
    {
     "data": {
      "text/plain": [
       "[Row(Total_Stops='4 stops'),\n",
       " Row(Total_Stops='non-stop'),\n",
       " Row(Total_Stops='2 stops'),\n",
       " Row(Total_Stops='1 stop'),\n",
       " Row(Total_Stops='3 stops')]"
      ]
     },
     "execution_count": 43,
     "metadata": {},
     "output_type": "execute_result"
    }
   ],
   "source": [
    "train_data.select('Total_Stops').distinct().collect()"
   ]
  },
  {
   "cell_type": "code",
   "execution_count": 44,
   "id": "683cc804",
   "metadata": {},
   "outputs": [
    {
     "name": "stdout",
     "output_type": "stream",
     "text": [
      "+-----------+-----+\n",
      "|Total_Stops|count|\n",
      "+-----------+-----+\n",
      "|     1 stop| 5625|\n",
      "|   non-stop| 3491|\n",
      "|    2 stops| 1519|\n",
      "|    3 stops|   45|\n",
      "|    4 stops|    1|\n",
      "+-----------+-----+\n",
      "\n"
     ]
    }
   ],
   "source": [
    "train_data.groupBy('Total_Stops').count().alias('Count').sort(col('Count').desc()).show()"
   ]
  },
  {
   "cell_type": "code",
   "execution_count": 45,
   "id": "226e4b68",
   "metadata": {},
   "outputs": [],
   "source": [
    "train_data = train_data.withColumn('Total_Stops',when(col('Total_Stops')=='1 stop',1)\n",
    "                                                    .when(col('Total_Stops')=='2 stops',2)\n",
    "                                                    .when(col('Total_Stops')=='3 stops',3)\n",
    "                                                    .when(col('Total_Stops')=='4 stops',4)\n",
    "                                                    .otherwise(0))"
   ]
  },
  {
   "cell_type": "code",
   "execution_count": 46,
   "id": "fdd9df19",
   "metadata": {},
   "outputs": [
    {
     "name": "stdout",
     "output_type": "stream",
     "text": [
      "+-----------+\n",
      "|Total_Stops|\n",
      "+-----------+\n",
      "|          0|\n",
      "|          2|\n",
      "|          2|\n",
      "|          1|\n",
      "|          1|\n",
      "|          0|\n",
      "|          1|\n",
      "|          1|\n",
      "|          1|\n",
      "|          1|\n",
      "|          1|\n",
      "|          0|\n",
      "|          0|\n",
      "|          1|\n",
      "|          0|\n",
      "|          2|\n",
      "|          1|\n",
      "|          1|\n",
      "|          2|\n",
      "|          1|\n",
      "+-----------+\n",
      "only showing top 20 rows\n",
      "\n"
     ]
    }
   ],
   "source": [
    "train_data.select('Total_Stops').show()"
   ]
  },
  {
   "cell_type": "code",
   "execution_count": 47,
   "id": "bab9f28c",
   "metadata": {},
   "outputs": [
    {
     "name": "stdout",
     "output_type": "stream",
     "text": [
      "+-------+------+-----------+-----+-----------+---------------+-----+-------+---+-----------+-------------+--------+----------+------------+-----------+-------------+---------------+\n",
      "|Airline|Source|Destination|Route|Total_Stops|Additional_Info|Price|holiday|day|Journey_Day|Journey_Month|Dep_Hour|Dep_Minute|Arrival_hour|Arrival_min|Duration_Hour|Duration_Minute|\n",
      "+-------+------+-----------+-----+-----------+---------------+-----+-------+---+-----------+-------------+--------+----------+------------+-----------+-------------+---------------+\n",
      "|      0|     0|          0|    0|          0|              0|    0|      0|  0|          0|            0|       0|         0|           0|          0|            0|              0|\n",
      "+-------+------+-----------+-----+-----------+---------------+-----+-------+---+-----------+-------------+--------+----------+------------+-----------+-------------+---------------+\n",
      "\n"
     ]
    }
   ],
   "source": [
    "from pyspark.sql.functions import isnan, when, count, col\n",
    "train_data.select([count(when(col(c).isNull(), c)).alias(c) for c in train_data.columns]).show()"
   ]
  },
  {
   "cell_type": "code",
   "execution_count": 48,
   "id": "94aeea87",
   "metadata": {},
   "outputs": [
    {
     "name": "stdout",
     "output_type": "stream",
     "text": [
      "root\n",
      " |-- Airline: string (nullable = true)\n",
      " |-- Source: string (nullable = true)\n",
      " |-- Destination: string (nullable = true)\n",
      " |-- Route: string (nullable = true)\n",
      " |-- Total_Stops: integer (nullable = false)\n",
      " |-- Additional_Info: string (nullable = true)\n",
      " |-- Price: integer (nullable = true)\n",
      " |-- holiday: string (nullable = false)\n",
      " |-- day: string (nullable = false)\n",
      " |-- Journey_Day: integer (nullable = true)\n",
      " |-- Journey_Month: integer (nullable = true)\n",
      " |-- Dep_Hour: integer (nullable = true)\n",
      " |-- Dep_Minute: integer (nullable = true)\n",
      " |-- Arrival_hour: integer (nullable = true)\n",
      " |-- Arrival_min: integer (nullable = true)\n",
      " |-- Duration_Hour: integer (nullable = true)\n",
      " |-- Duration_Minute: integer (nullable = true)\n",
      "\n"
     ]
    }
   ],
   "source": [
    "train_data.printSchema()"
   ]
  },
  {
   "cell_type": "code",
   "execution_count": 49,
   "id": "e4418343",
   "metadata": {},
   "outputs": [
    {
     "name": "stdout",
     "output_type": "stream",
     "text": [
      "+-----------------+--------+-----------+--------------------+-----------+--------------------+-----+-----------+-------+-----------+-------------+--------+----------+------------+-----------+-------------+---------------+\n",
      "|          Airline|  Source|Destination|               Route|Total_Stops|     Additional_Info|Price|    holiday|    day|Journey_Day|Journey_Month|Dep_Hour|Dep_Minute|Arrival_hour|Arrival_min|Duration_Hour|Duration_Minute|\n",
      "+-----------------+--------+-----------+--------------------+-----------+--------------------+-----+-----------+-------+-----------+-------------+--------+----------+------------+-----------+-------------+---------------+\n",
      "|           IndiGo|Banglore|  New Delhi|           BLR ? DEL|          0|             No info| 3897|Non Holiday|Weekend|         24|            3|      22|        20|           1|         10|            2|              2|\n",
      "|        Air India| Kolkata|   Banglore|CCU ? IXR ? BBI ?...|          2|             No info| 7662|Non Holiday|Weekday|          1|            5|       5|        50|          13|         15|            7|              7|\n",
      "|      Jet Airways|   Delhi|     Cochin|DEL ? LKO ? BOM ?...|          2|             No info|13882|Non Holiday|Weekend|          9|            6|       9|        25|           4|         25|           19|             19|\n",
      "|           IndiGo| Kolkata|   Banglore|     CCU ? NAG ? BLR|          1|             No info| 6218|Non Holiday|Weekend|         12|            5|      18|         5|          23|         30|            5|              5|\n",
      "|           IndiGo|Banglore|  New Delhi|     BLR ? NAG ? DEL|          1|             No info|13302|    Holiday|Weekday|          1|            3|      16|        50|          21|         35|            4|              4|\n",
      "|         SpiceJet| Kolkata|   Banglore|           CCU ? BLR|          0|             No info| 3873|Non Holiday|Weekday|         24|            6|       9|         0|          11|         25|            2|              2|\n",
      "|      Jet Airways|Banglore|  New Delhi|     BLR ? BOM ? DEL|          1|In-flight meal no...|11087|Non Holiday|Weekday|         12|            3|      18|        55|          10|         25|           15|             15|\n",
      "|      Jet Airways|Banglore|  New Delhi|     BLR ? BOM ? DEL|          1|             No info|22270|    Holiday|Weekday|          1|            3|       8|         0|           5|          5|           21|             21|\n",
      "|      Jet Airways|Banglore|  New Delhi|     BLR ? BOM ? DEL|          1|In-flight meal no...|11087|Non Holiday|Weekday|         12|            3|       8|        55|          10|         25|           25|             25|\n",
      "|Multiple carriers|   Delhi|     Cochin|     DEL ? BOM ? COK|          1|             No info| 8625|Non Holiday|Weekday|         27|            5|      11|        25|          19|         15|            7|              7|\n",
      "|        Air India|   Delhi|     Cochin|     DEL ? BLR ? COK|          1|             No info| 8907|Non Holiday|Weekend|          1|            6|       9|        45|          23|          0|           13|             13|\n",
      "|           IndiGo| Kolkata|   Banglore|           CCU ? BLR|          0|             No info| 4174|Non Holiday|Weekday|         18|            4|      20|        20|          22|         55|            2|              2|\n",
      "|        Air India| Chennai|    Kolkata|           MAA ? CCU|          0|             No info| 4667|Non Holiday|Weekday|         24|            6|      11|        40|          13|         55|            2|              2|\n",
      "|      Jet Airways| Kolkata|   Banglore|     CCU ? BOM ? BLR|          1|In-flight meal no...| 9663|    Holiday|Weekday|          9|            5|      21|        10|           9|         20|           12|             12|\n",
      "|           IndiGo| Kolkata|   Banglore|           CCU ? BLR|          0|             No info| 4804|Non Holiday|Weekday|         24|            4|      17|        15|          19|         50|            2|              2|\n",
      "|        Air India|   Delhi|     Cochin|DEL ? AMD ? BOM ?...|          2|             No info|14011|Non Holiday|Weekend|          3|            3|      16|        40|          19|         15|           26|             26|\n",
      "|         SpiceJet|   Delhi|     Cochin|     DEL ? PNQ ? COK|          1|             No info| 5830|    Holiday|Weekday|         15|            4|       8|        45|          13|         15|            4|              4|\n",
      "|      Jet Airways|   Delhi|     Cochin|     DEL ? BOM ? COK|          1|In-flight meal no...|10262|Non Holiday|Weekday|         12|            6|      14|         0|          12|         35|           22|             22|\n",
      "|        Air India|   Delhi|     Cochin|DEL ? CCU ? BOM ?...|          2|             No info|13381|Non Holiday|Weekday|         12|            6|      20|        15|          19|         15|           23|             23|\n",
      "|      Jet Airways|   Delhi|     Cochin|     DEL ? BOM ? COK|          1|In-flight meal no...|12898|Non Holiday|Weekday|         27|            5|      16|         0|          12|         35|           20|             20|\n",
      "+-----------------+--------+-----------+--------------------+-----------+--------------------+-----+-----------+-------+-----------+-------------+--------+----------+------------+-----------+-------------+---------------+\n",
      "only showing top 20 rows\n",
      "\n"
     ]
    }
   ],
   "source": [
    "train_data.show()"
   ]
  },
  {
   "cell_type": "code",
   "execution_count": 50,
   "id": "b4383ee3",
   "metadata": {},
   "outputs": [
    {
     "name": "stdout",
     "output_type": "stream",
     "text": [
      "root\n",
      " |-- Airline: string (nullable = true)\n",
      " |-- Source: string (nullable = true)\n",
      " |-- Destination: string (nullable = true)\n",
      " |-- Route: string (nullable = true)\n",
      " |-- Total_Stops: integer (nullable = false)\n",
      " |-- Additional_Info: string (nullable = true)\n",
      " |-- Price: integer (nullable = true)\n",
      " |-- holiday: string (nullable = false)\n",
      " |-- day: string (nullable = false)\n",
      " |-- Journey_Day: integer (nullable = true)\n",
      " |-- Journey_Month: integer (nullable = true)\n",
      " |-- Dep_Hour: integer (nullable = true)\n",
      " |-- Dep_Minute: integer (nullable = true)\n",
      " |-- Arrival_hour: integer (nullable = true)\n",
      " |-- Arrival_min: integer (nullable = true)\n",
      " |-- Duration_Hour: integer (nullable = true)\n",
      " |-- Duration_Minute: integer (nullable = true)\n",
      "\n"
     ]
    }
   ],
   "source": [
    "train_data.printSchema()"
   ]
  },
  {
   "cell_type": "code",
   "execution_count": 51,
   "id": "f4410421",
   "metadata": {},
   "outputs": [
    {
     "data": {
      "text/plain": [
       "17"
      ]
     },
     "execution_count": 51,
     "metadata": {},
     "output_type": "execute_result"
    }
   ],
   "source": [
    "len(train_data.columns)"
   ]
  },
  {
   "cell_type": "code",
   "execution_count": 52,
   "id": "f00124df",
   "metadata": {},
   "outputs": [
    {
     "data": {
      "text/plain": [
       "pyspark.sql.dataframe.DataFrame"
      ]
     },
     "execution_count": 52,
     "metadata": {},
     "output_type": "execute_result"
    }
   ],
   "source": [
    "type(train_data)"
   ]
  },
  {
   "cell_type": "code",
   "execution_count": 53,
   "id": "ed12d980",
   "metadata": {},
   "outputs": [],
   "source": [
    "train_data.write.format(\"mongo\").mode(\"overwrite\").option(\"database\",\"project\").option(\"collection\", \"Flight\").save()"
   ]
  },
  {
   "cell_type": "code",
   "execution_count": 54,
   "id": "7fc5ee19",
   "metadata": {},
   "outputs": [
    {
     "data": {
      "text/html": [
       "<div>\n",
       "<style scoped>\n",
       "    .dataframe tbody tr th:only-of-type {\n",
       "        vertical-align: middle;\n",
       "    }\n",
       "\n",
       "    .dataframe tbody tr th {\n",
       "        vertical-align: top;\n",
       "    }\n",
       "\n",
       "    .dataframe thead th {\n",
       "        text-align: right;\n",
       "    }\n",
       "</style>\n",
       "<table border=\"1\" class=\"dataframe\">\n",
       "  <thead>\n",
       "    <tr style=\"text-align: right;\">\n",
       "      <th></th>\n",
       "      <th>_id</th>\n",
       "      <th>Airline</th>\n",
       "      <th>Source</th>\n",
       "      <th>Destination</th>\n",
       "      <th>Route</th>\n",
       "      <th>Total_Stops</th>\n",
       "      <th>Additional_Info</th>\n",
       "      <th>Price</th>\n",
       "      <th>holiday</th>\n",
       "      <th>day</th>\n",
       "      <th>Journey_Day</th>\n",
       "      <th>Journey_Month</th>\n",
       "      <th>Dep_Hour</th>\n",
       "      <th>Dep_Minute</th>\n",
       "      <th>Arrival_hour</th>\n",
       "      <th>Arrival_min</th>\n",
       "      <th>Duration_Hour</th>\n",
       "      <th>Duration_Minute</th>\n",
       "    </tr>\n",
       "  </thead>\n",
       "  <tbody>\n",
       "    <tr>\n",
       "      <th>0</th>\n",
       "      <td>6329df618a05eb6cc1e176eb</td>\n",
       "      <td>IndiGo</td>\n",
       "      <td>Banglore</td>\n",
       "      <td>New Delhi</td>\n",
       "      <td>BLR ? DEL</td>\n",
       "      <td>0</td>\n",
       "      <td>No info</td>\n",
       "      <td>3897</td>\n",
       "      <td>Non Holiday</td>\n",
       "      <td>Weekend</td>\n",
       "      <td>24</td>\n",
       "      <td>3</td>\n",
       "      <td>22</td>\n",
       "      <td>20</td>\n",
       "      <td>1</td>\n",
       "      <td>10</td>\n",
       "      <td>2</td>\n",
       "      <td>2</td>\n",
       "    </tr>\n",
       "    <tr>\n",
       "      <th>1</th>\n",
       "      <td>6329df618a05eb6cc1e176ec</td>\n",
       "      <td>Air India</td>\n",
       "      <td>Kolkata</td>\n",
       "      <td>Banglore</td>\n",
       "      <td>CCU ? IXR ? BBI ? BLR</td>\n",
       "      <td>2</td>\n",
       "      <td>No info</td>\n",
       "      <td>7662</td>\n",
       "      <td>Non Holiday</td>\n",
       "      <td>Weekday</td>\n",
       "      <td>1</td>\n",
       "      <td>5</td>\n",
       "      <td>5</td>\n",
       "      <td>50</td>\n",
       "      <td>13</td>\n",
       "      <td>15</td>\n",
       "      <td>7</td>\n",
       "      <td>7</td>\n",
       "    </tr>\n",
       "    <tr>\n",
       "      <th>2</th>\n",
       "      <td>6329df618a05eb6cc1e176ed</td>\n",
       "      <td>Jet Airways</td>\n",
       "      <td>Delhi</td>\n",
       "      <td>Cochin</td>\n",
       "      <td>DEL ? LKO ? BOM ? COK</td>\n",
       "      <td>2</td>\n",
       "      <td>No info</td>\n",
       "      <td>13882</td>\n",
       "      <td>Non Holiday</td>\n",
       "      <td>Weekend</td>\n",
       "      <td>9</td>\n",
       "      <td>6</td>\n",
       "      <td>9</td>\n",
       "      <td>25</td>\n",
       "      <td>4</td>\n",
       "      <td>25</td>\n",
       "      <td>19</td>\n",
       "      <td>19</td>\n",
       "    </tr>\n",
       "    <tr>\n",
       "      <th>3</th>\n",
       "      <td>6329df618a05eb6cc1e176ee</td>\n",
       "      <td>IndiGo</td>\n",
       "      <td>Kolkata</td>\n",
       "      <td>Banglore</td>\n",
       "      <td>CCU ? NAG ? BLR</td>\n",
       "      <td>1</td>\n",
       "      <td>No info</td>\n",
       "      <td>6218</td>\n",
       "      <td>Non Holiday</td>\n",
       "      <td>Weekend</td>\n",
       "      <td>12</td>\n",
       "      <td>5</td>\n",
       "      <td>18</td>\n",
       "      <td>5</td>\n",
       "      <td>23</td>\n",
       "      <td>30</td>\n",
       "      <td>5</td>\n",
       "      <td>5</td>\n",
       "    </tr>\n",
       "    <tr>\n",
       "      <th>4</th>\n",
       "      <td>6329df618a05eb6cc1e176ef</td>\n",
       "      <td>IndiGo</td>\n",
       "      <td>Banglore</td>\n",
       "      <td>New Delhi</td>\n",
       "      <td>BLR ? NAG ? DEL</td>\n",
       "      <td>1</td>\n",
       "      <td>No info</td>\n",
       "      <td>13302</td>\n",
       "      <td>Holiday</td>\n",
       "      <td>Weekday</td>\n",
       "      <td>1</td>\n",
       "      <td>3</td>\n",
       "      <td>16</td>\n",
       "      <td>50</td>\n",
       "      <td>21</td>\n",
       "      <td>35</td>\n",
       "      <td>4</td>\n",
       "      <td>4</td>\n",
       "    </tr>\n",
       "    <tr>\n",
       "      <th>...</th>\n",
       "      <td>...</td>\n",
       "      <td>...</td>\n",
       "      <td>...</td>\n",
       "      <td>...</td>\n",
       "      <td>...</td>\n",
       "      <td>...</td>\n",
       "      <td>...</td>\n",
       "      <td>...</td>\n",
       "      <td>...</td>\n",
       "      <td>...</td>\n",
       "      <td>...</td>\n",
       "      <td>...</td>\n",
       "      <td>...</td>\n",
       "      <td>...</td>\n",
       "      <td>...</td>\n",
       "      <td>...</td>\n",
       "      <td>...</td>\n",
       "      <td>...</td>\n",
       "    </tr>\n",
       "    <tr>\n",
       "      <th>10676</th>\n",
       "      <td>6329df638a05eb6cc1e1a09f</td>\n",
       "      <td>Air Asia</td>\n",
       "      <td>Kolkata</td>\n",
       "      <td>Banglore</td>\n",
       "      <td>CCU ? BLR</td>\n",
       "      <td>0</td>\n",
       "      <td>No info</td>\n",
       "      <td>4107</td>\n",
       "      <td>Non Holiday</td>\n",
       "      <td>Weekday</td>\n",
       "      <td>9</td>\n",
       "      <td>4</td>\n",
       "      <td>19</td>\n",
       "      <td>55</td>\n",
       "      <td>22</td>\n",
       "      <td>25</td>\n",
       "      <td>2</td>\n",
       "      <td>2</td>\n",
       "    </tr>\n",
       "    <tr>\n",
       "      <th>10677</th>\n",
       "      <td>6329df638a05eb6cc1e1a0a0</td>\n",
       "      <td>Air India</td>\n",
       "      <td>Kolkata</td>\n",
       "      <td>Banglore</td>\n",
       "      <td>CCU ? BLR</td>\n",
       "      <td>0</td>\n",
       "      <td>No info</td>\n",
       "      <td>4145</td>\n",
       "      <td>Non Holiday</td>\n",
       "      <td>Weekend</td>\n",
       "      <td>27</td>\n",
       "      <td>4</td>\n",
       "      <td>20</td>\n",
       "      <td>45</td>\n",
       "      <td>23</td>\n",
       "      <td>20</td>\n",
       "      <td>2</td>\n",
       "      <td>2</td>\n",
       "    </tr>\n",
       "    <tr>\n",
       "      <th>10678</th>\n",
       "      <td>6329df638a05eb6cc1e1a0a1</td>\n",
       "      <td>Jet Airways</td>\n",
       "      <td>Banglore</td>\n",
       "      <td>Delhi</td>\n",
       "      <td>BLR ? DEL</td>\n",
       "      <td>0</td>\n",
       "      <td>No info</td>\n",
       "      <td>7229</td>\n",
       "      <td>Non Holiday</td>\n",
       "      <td>Weekend</td>\n",
       "      <td>27</td>\n",
       "      <td>4</td>\n",
       "      <td>8</td>\n",
       "      <td>20</td>\n",
       "      <td>11</td>\n",
       "      <td>20</td>\n",
       "      <td>3</td>\n",
       "      <td>3</td>\n",
       "    </tr>\n",
       "    <tr>\n",
       "      <th>10679</th>\n",
       "      <td>6329df638a05eb6cc1e1a0a2</td>\n",
       "      <td>Vistara</td>\n",
       "      <td>Banglore</td>\n",
       "      <td>New Delhi</td>\n",
       "      <td>BLR ? DEL</td>\n",
       "      <td>0</td>\n",
       "      <td>No info</td>\n",
       "      <td>12648</td>\n",
       "      <td>Holiday</td>\n",
       "      <td>Weekday</td>\n",
       "      <td>1</td>\n",
       "      <td>3</td>\n",
       "      <td>11</td>\n",
       "      <td>30</td>\n",
       "      <td>14</td>\n",
       "      <td>10</td>\n",
       "      <td>2</td>\n",
       "      <td>2</td>\n",
       "    </tr>\n",
       "    <tr>\n",
       "      <th>10680</th>\n",
       "      <td>6329df638a05eb6cc1e1a0a3</td>\n",
       "      <td>Air India</td>\n",
       "      <td>Delhi</td>\n",
       "      <td>Cochin</td>\n",
       "      <td>DEL ? GOI ? BOM ? COK</td>\n",
       "      <td>2</td>\n",
       "      <td>No info</td>\n",
       "      <td>11753</td>\n",
       "      <td>Holiday</td>\n",
       "      <td>Weekday</td>\n",
       "      <td>9</td>\n",
       "      <td>5</td>\n",
       "      <td>10</td>\n",
       "      <td>55</td>\n",
       "      <td>19</td>\n",
       "      <td>15</td>\n",
       "      <td>8</td>\n",
       "      <td>8</td>\n",
       "    </tr>\n",
       "  </tbody>\n",
       "</table>\n",
       "<p>10681 rows × 18 columns</p>\n",
       "</div>"
      ],
      "text/plain": [
       "                            _id      Airline    Source Destination  \\\n",
       "0      6329df618a05eb6cc1e176eb       IndiGo  Banglore   New Delhi   \n",
       "1      6329df618a05eb6cc1e176ec    Air India   Kolkata    Banglore   \n",
       "2      6329df618a05eb6cc1e176ed  Jet Airways     Delhi      Cochin   \n",
       "3      6329df618a05eb6cc1e176ee       IndiGo   Kolkata    Banglore   \n",
       "4      6329df618a05eb6cc1e176ef       IndiGo  Banglore   New Delhi   \n",
       "...                         ...          ...       ...         ...   \n",
       "10676  6329df638a05eb6cc1e1a09f     Air Asia   Kolkata    Banglore   \n",
       "10677  6329df638a05eb6cc1e1a0a0    Air India   Kolkata    Banglore   \n",
       "10678  6329df638a05eb6cc1e1a0a1  Jet Airways  Banglore       Delhi   \n",
       "10679  6329df638a05eb6cc1e1a0a2      Vistara  Banglore   New Delhi   \n",
       "10680  6329df638a05eb6cc1e1a0a3    Air India     Delhi      Cochin   \n",
       "\n",
       "                       Route  Total_Stops Additional_Info  Price      holiday  \\\n",
       "0                  BLR ? DEL            0         No info   3897  Non Holiday   \n",
       "1      CCU ? IXR ? BBI ? BLR            2         No info   7662  Non Holiday   \n",
       "2      DEL ? LKO ? BOM ? COK            2         No info  13882  Non Holiday   \n",
       "3            CCU ? NAG ? BLR            1         No info   6218  Non Holiday   \n",
       "4            BLR ? NAG ? DEL            1         No info  13302      Holiday   \n",
       "...                      ...          ...             ...    ...          ...   \n",
       "10676              CCU ? BLR            0         No info   4107  Non Holiday   \n",
       "10677              CCU ? BLR            0         No info   4145  Non Holiday   \n",
       "10678              BLR ? DEL            0         No info   7229  Non Holiday   \n",
       "10679              BLR ? DEL            0         No info  12648      Holiday   \n",
       "10680  DEL ? GOI ? BOM ? COK            2         No info  11753      Holiday   \n",
       "\n",
       "           day  Journey_Day  Journey_Month  Dep_Hour  Dep_Minute  \\\n",
       "0      Weekend           24              3        22          20   \n",
       "1      Weekday            1              5         5          50   \n",
       "2      Weekend            9              6         9          25   \n",
       "3      Weekend           12              5        18           5   \n",
       "4      Weekday            1              3        16          50   \n",
       "...        ...          ...            ...       ...         ...   \n",
       "10676  Weekday            9              4        19          55   \n",
       "10677  Weekend           27              4        20          45   \n",
       "10678  Weekend           27              4         8          20   \n",
       "10679  Weekday            1              3        11          30   \n",
       "10680  Weekday            9              5        10          55   \n",
       "\n",
       "       Arrival_hour  Arrival_min  Duration_Hour  Duration_Minute  \n",
       "0                 1           10              2                2  \n",
       "1                13           15              7                7  \n",
       "2                 4           25             19               19  \n",
       "3                23           30              5                5  \n",
       "4                21           35              4                4  \n",
       "...             ...          ...            ...              ...  \n",
       "10676            22           25              2                2  \n",
       "10677            23           20              2                2  \n",
       "10678            11           20              3                3  \n",
       "10679            14           10              2                2  \n",
       "10680            19           15              8                8  \n",
       "\n",
       "[10681 rows x 18 columns]"
      ]
     },
     "execution_count": 54,
     "metadata": {},
     "output_type": "execute_result"
    }
   ],
   "source": [
    "# flight as a train data set.\n",
    "client = MongoClient('localhost',27017)\n",
    "db = client['project']\n",
    "data = db.Flight\n",
    "df = pd.DataFrame(list(data.find()))\n",
    "df"
   ]
  },
  {
   "cell_type": "code",
   "execution_count": 55,
   "id": "f3d06959",
   "metadata": {},
   "outputs": [],
   "source": [
    "import numpy as np\n",
    "import pandas as pd\n",
    "import matplotlib.pyplot as plt\n",
    "import seaborn as sns\n",
    "\n",
    "sns.set()"
   ]
  },
  {
   "cell_type": "code",
   "execution_count": 56,
   "id": "d5d031c3",
   "metadata": {},
   "outputs": [],
   "source": [
    "pd.set_option('display.max_columns', None)"
   ]
  },
  {
   "cell_type": "code",
   "execution_count": 57,
   "id": "2efef9b8",
   "metadata": {},
   "outputs": [
    {
     "data": {
      "text/html": [
       "<div>\n",
       "<style scoped>\n",
       "    .dataframe tbody tr th:only-of-type {\n",
       "        vertical-align: middle;\n",
       "    }\n",
       "\n",
       "    .dataframe tbody tr th {\n",
       "        vertical-align: top;\n",
       "    }\n",
       "\n",
       "    .dataframe thead th {\n",
       "        text-align: right;\n",
       "    }\n",
       "</style>\n",
       "<table border=\"1\" class=\"dataframe\">\n",
       "  <thead>\n",
       "    <tr style=\"text-align: right;\">\n",
       "      <th></th>\n",
       "      <th>_id</th>\n",
       "      <th>Airline</th>\n",
       "      <th>Source</th>\n",
       "      <th>Destination</th>\n",
       "      <th>Route</th>\n",
       "      <th>Total_Stops</th>\n",
       "      <th>Additional_Info</th>\n",
       "      <th>Price</th>\n",
       "      <th>holiday</th>\n",
       "      <th>day</th>\n",
       "      <th>Journey_Day</th>\n",
       "      <th>Journey_Month</th>\n",
       "      <th>Dep_Hour</th>\n",
       "      <th>Dep_Minute</th>\n",
       "      <th>Arrival_hour</th>\n",
       "      <th>Arrival_min</th>\n",
       "      <th>Duration_Hour</th>\n",
       "      <th>Duration_Minute</th>\n",
       "    </tr>\n",
       "  </thead>\n",
       "  <tbody>\n",
       "    <tr>\n",
       "      <th>0</th>\n",
       "      <td>6329df618a05eb6cc1e176eb</td>\n",
       "      <td>IndiGo</td>\n",
       "      <td>Banglore</td>\n",
       "      <td>New Delhi</td>\n",
       "      <td>BLR ? DEL</td>\n",
       "      <td>0</td>\n",
       "      <td>No info</td>\n",
       "      <td>3897</td>\n",
       "      <td>Non Holiday</td>\n",
       "      <td>Weekend</td>\n",
       "      <td>24</td>\n",
       "      <td>3</td>\n",
       "      <td>22</td>\n",
       "      <td>20</td>\n",
       "      <td>1</td>\n",
       "      <td>10</td>\n",
       "      <td>2</td>\n",
       "      <td>2</td>\n",
       "    </tr>\n",
       "    <tr>\n",
       "      <th>1</th>\n",
       "      <td>6329df618a05eb6cc1e176ec</td>\n",
       "      <td>Air India</td>\n",
       "      <td>Kolkata</td>\n",
       "      <td>Banglore</td>\n",
       "      <td>CCU ? IXR ? BBI ? BLR</td>\n",
       "      <td>2</td>\n",
       "      <td>No info</td>\n",
       "      <td>7662</td>\n",
       "      <td>Non Holiday</td>\n",
       "      <td>Weekday</td>\n",
       "      <td>1</td>\n",
       "      <td>5</td>\n",
       "      <td>5</td>\n",
       "      <td>50</td>\n",
       "      <td>13</td>\n",
       "      <td>15</td>\n",
       "      <td>7</td>\n",
       "      <td>7</td>\n",
       "    </tr>\n",
       "    <tr>\n",
       "      <th>2</th>\n",
       "      <td>6329df618a05eb6cc1e176ed</td>\n",
       "      <td>Jet Airways</td>\n",
       "      <td>Delhi</td>\n",
       "      <td>Cochin</td>\n",
       "      <td>DEL ? LKO ? BOM ? COK</td>\n",
       "      <td>2</td>\n",
       "      <td>No info</td>\n",
       "      <td>13882</td>\n",
       "      <td>Non Holiday</td>\n",
       "      <td>Weekend</td>\n",
       "      <td>9</td>\n",
       "      <td>6</td>\n",
       "      <td>9</td>\n",
       "      <td>25</td>\n",
       "      <td>4</td>\n",
       "      <td>25</td>\n",
       "      <td>19</td>\n",
       "      <td>19</td>\n",
       "    </tr>\n",
       "    <tr>\n",
       "      <th>3</th>\n",
       "      <td>6329df618a05eb6cc1e176ee</td>\n",
       "      <td>IndiGo</td>\n",
       "      <td>Kolkata</td>\n",
       "      <td>Banglore</td>\n",
       "      <td>CCU ? NAG ? BLR</td>\n",
       "      <td>1</td>\n",
       "      <td>No info</td>\n",
       "      <td>6218</td>\n",
       "      <td>Non Holiday</td>\n",
       "      <td>Weekend</td>\n",
       "      <td>12</td>\n",
       "      <td>5</td>\n",
       "      <td>18</td>\n",
       "      <td>5</td>\n",
       "      <td>23</td>\n",
       "      <td>30</td>\n",
       "      <td>5</td>\n",
       "      <td>5</td>\n",
       "    </tr>\n",
       "    <tr>\n",
       "      <th>4</th>\n",
       "      <td>6329df618a05eb6cc1e176ef</td>\n",
       "      <td>IndiGo</td>\n",
       "      <td>Banglore</td>\n",
       "      <td>New Delhi</td>\n",
       "      <td>BLR ? NAG ? DEL</td>\n",
       "      <td>1</td>\n",
       "      <td>No info</td>\n",
       "      <td>13302</td>\n",
       "      <td>Holiday</td>\n",
       "      <td>Weekday</td>\n",
       "      <td>1</td>\n",
       "      <td>3</td>\n",
       "      <td>16</td>\n",
       "      <td>50</td>\n",
       "      <td>21</td>\n",
       "      <td>35</td>\n",
       "      <td>4</td>\n",
       "      <td>4</td>\n",
       "    </tr>\n",
       "  </tbody>\n",
       "</table>\n",
       "</div>"
      ],
      "text/plain": [
       "                        _id      Airline    Source Destination  \\\n",
       "0  6329df618a05eb6cc1e176eb       IndiGo  Banglore   New Delhi   \n",
       "1  6329df618a05eb6cc1e176ec    Air India   Kolkata    Banglore   \n",
       "2  6329df618a05eb6cc1e176ed  Jet Airways     Delhi      Cochin   \n",
       "3  6329df618a05eb6cc1e176ee       IndiGo   Kolkata    Banglore   \n",
       "4  6329df618a05eb6cc1e176ef       IndiGo  Banglore   New Delhi   \n",
       "\n",
       "                   Route  Total_Stops Additional_Info  Price      holiday  \\\n",
       "0              BLR ? DEL            0         No info   3897  Non Holiday   \n",
       "1  CCU ? IXR ? BBI ? BLR            2         No info   7662  Non Holiday   \n",
       "2  DEL ? LKO ? BOM ? COK            2         No info  13882  Non Holiday   \n",
       "3        CCU ? NAG ? BLR            1         No info   6218  Non Holiday   \n",
       "4        BLR ? NAG ? DEL            1         No info  13302      Holiday   \n",
       "\n",
       "       day  Journey_Day  Journey_Month  Dep_Hour  Dep_Minute  Arrival_hour  \\\n",
       "0  Weekend           24              3        22          20             1   \n",
       "1  Weekday            1              5         5          50            13   \n",
       "2  Weekend            9              6         9          25             4   \n",
       "3  Weekend           12              5        18           5            23   \n",
       "4  Weekday            1              3        16          50            21   \n",
       "\n",
       "   Arrival_min  Duration_Hour  Duration_Minute  \n",
       "0           10              2                2  \n",
       "1           15              7                7  \n",
       "2           25             19               19  \n",
       "3           30              5                5  \n",
       "4           35              4                4  "
      ]
     },
     "execution_count": 57,
     "metadata": {},
     "output_type": "execute_result"
    }
   ],
   "source": [
    "df.head()"
   ]
  },
  {
   "cell_type": "code",
   "execution_count": 58,
   "id": "a5c54622",
   "metadata": {},
   "outputs": [],
   "source": [
    "df.drop([\"_id\"], axis = 1, inplace = True)"
   ]
  },
  {
   "cell_type": "code",
   "execution_count": 59,
   "id": "d42b9c0c",
   "metadata": {},
   "outputs": [
    {
     "data": {
      "text/html": [
       "<div>\n",
       "<style scoped>\n",
       "    .dataframe tbody tr th:only-of-type {\n",
       "        vertical-align: middle;\n",
       "    }\n",
       "\n",
       "    .dataframe tbody tr th {\n",
       "        vertical-align: top;\n",
       "    }\n",
       "\n",
       "    .dataframe thead th {\n",
       "        text-align: right;\n",
       "    }\n",
       "</style>\n",
       "<table border=\"1\" class=\"dataframe\">\n",
       "  <thead>\n",
       "    <tr style=\"text-align: right;\">\n",
       "      <th></th>\n",
       "      <th>Airline</th>\n",
       "      <th>Source</th>\n",
       "      <th>Destination</th>\n",
       "      <th>Route</th>\n",
       "      <th>Total_Stops</th>\n",
       "      <th>Additional_Info</th>\n",
       "      <th>Price</th>\n",
       "      <th>holiday</th>\n",
       "      <th>day</th>\n",
       "      <th>Journey_Day</th>\n",
       "      <th>Journey_Month</th>\n",
       "      <th>Dep_Hour</th>\n",
       "      <th>Dep_Minute</th>\n",
       "      <th>Arrival_hour</th>\n",
       "      <th>Arrival_min</th>\n",
       "      <th>Duration_Hour</th>\n",
       "      <th>Duration_Minute</th>\n",
       "    </tr>\n",
       "  </thead>\n",
       "  <tbody>\n",
       "    <tr>\n",
       "      <th>0</th>\n",
       "      <td>IndiGo</td>\n",
       "      <td>Banglore</td>\n",
       "      <td>New Delhi</td>\n",
       "      <td>BLR ? DEL</td>\n",
       "      <td>0</td>\n",
       "      <td>No info</td>\n",
       "      <td>3897</td>\n",
       "      <td>Non Holiday</td>\n",
       "      <td>Weekend</td>\n",
       "      <td>24</td>\n",
       "      <td>3</td>\n",
       "      <td>22</td>\n",
       "      <td>20</td>\n",
       "      <td>1</td>\n",
       "      <td>10</td>\n",
       "      <td>2</td>\n",
       "      <td>2</td>\n",
       "    </tr>\n",
       "    <tr>\n",
       "      <th>1</th>\n",
       "      <td>Air India</td>\n",
       "      <td>Kolkata</td>\n",
       "      <td>Banglore</td>\n",
       "      <td>CCU ? IXR ? BBI ? BLR</td>\n",
       "      <td>2</td>\n",
       "      <td>No info</td>\n",
       "      <td>7662</td>\n",
       "      <td>Non Holiday</td>\n",
       "      <td>Weekday</td>\n",
       "      <td>1</td>\n",
       "      <td>5</td>\n",
       "      <td>5</td>\n",
       "      <td>50</td>\n",
       "      <td>13</td>\n",
       "      <td>15</td>\n",
       "      <td>7</td>\n",
       "      <td>7</td>\n",
       "    </tr>\n",
       "    <tr>\n",
       "      <th>2</th>\n",
       "      <td>Jet Airways</td>\n",
       "      <td>Delhi</td>\n",
       "      <td>Cochin</td>\n",
       "      <td>DEL ? LKO ? BOM ? COK</td>\n",
       "      <td>2</td>\n",
       "      <td>No info</td>\n",
       "      <td>13882</td>\n",
       "      <td>Non Holiday</td>\n",
       "      <td>Weekend</td>\n",
       "      <td>9</td>\n",
       "      <td>6</td>\n",
       "      <td>9</td>\n",
       "      <td>25</td>\n",
       "      <td>4</td>\n",
       "      <td>25</td>\n",
       "      <td>19</td>\n",
       "      <td>19</td>\n",
       "    </tr>\n",
       "    <tr>\n",
       "      <th>3</th>\n",
       "      <td>IndiGo</td>\n",
       "      <td>Kolkata</td>\n",
       "      <td>Banglore</td>\n",
       "      <td>CCU ? NAG ? BLR</td>\n",
       "      <td>1</td>\n",
       "      <td>No info</td>\n",
       "      <td>6218</td>\n",
       "      <td>Non Holiday</td>\n",
       "      <td>Weekend</td>\n",
       "      <td>12</td>\n",
       "      <td>5</td>\n",
       "      <td>18</td>\n",
       "      <td>5</td>\n",
       "      <td>23</td>\n",
       "      <td>30</td>\n",
       "      <td>5</td>\n",
       "      <td>5</td>\n",
       "    </tr>\n",
       "    <tr>\n",
       "      <th>4</th>\n",
       "      <td>IndiGo</td>\n",
       "      <td>Banglore</td>\n",
       "      <td>New Delhi</td>\n",
       "      <td>BLR ? NAG ? DEL</td>\n",
       "      <td>1</td>\n",
       "      <td>No info</td>\n",
       "      <td>13302</td>\n",
       "      <td>Holiday</td>\n",
       "      <td>Weekday</td>\n",
       "      <td>1</td>\n",
       "      <td>3</td>\n",
       "      <td>16</td>\n",
       "      <td>50</td>\n",
       "      <td>21</td>\n",
       "      <td>35</td>\n",
       "      <td>4</td>\n",
       "      <td>4</td>\n",
       "    </tr>\n",
       "  </tbody>\n",
       "</table>\n",
       "</div>"
      ],
      "text/plain": [
       "       Airline    Source Destination                  Route  Total_Stops  \\\n",
       "0       IndiGo  Banglore   New Delhi              BLR ? DEL            0   \n",
       "1    Air India   Kolkata    Banglore  CCU ? IXR ? BBI ? BLR            2   \n",
       "2  Jet Airways     Delhi      Cochin  DEL ? LKO ? BOM ? COK            2   \n",
       "3       IndiGo   Kolkata    Banglore        CCU ? NAG ? BLR            1   \n",
       "4       IndiGo  Banglore   New Delhi        BLR ? NAG ? DEL            1   \n",
       "\n",
       "  Additional_Info  Price      holiday      day  Journey_Day  Journey_Month  \\\n",
       "0         No info   3897  Non Holiday  Weekend           24              3   \n",
       "1         No info   7662  Non Holiday  Weekday            1              5   \n",
       "2         No info  13882  Non Holiday  Weekend            9              6   \n",
       "3         No info   6218  Non Holiday  Weekend           12              5   \n",
       "4         No info  13302      Holiday  Weekday            1              3   \n",
       "\n",
       "   Dep_Hour  Dep_Minute  Arrival_hour  Arrival_min  Duration_Hour  \\\n",
       "0        22          20             1           10              2   \n",
       "1         5          50            13           15              7   \n",
       "2         9          25             4           25             19   \n",
       "3        18           5            23           30              5   \n",
       "4        16          50            21           35              4   \n",
       "\n",
       "   Duration_Minute  \n",
       "0                2  \n",
       "1                7  \n",
       "2               19  \n",
       "3                5  \n",
       "4                4  "
      ]
     },
     "execution_count": 59,
     "metadata": {},
     "output_type": "execute_result"
    }
   ],
   "source": [
    "df.head()"
   ]
  },
  {
   "cell_type": "code",
   "execution_count": 60,
   "id": "730aa1e7",
   "metadata": {},
   "outputs": [
    {
     "name": "stdout",
     "output_type": "stream",
     "text": [
      "<class 'pandas.core.frame.DataFrame'>\n",
      "RangeIndex: 10681 entries, 0 to 10680\n",
      "Data columns (total 17 columns):\n",
      " #   Column           Non-Null Count  Dtype \n",
      "---  ------           --------------  ----- \n",
      " 0   Airline          10681 non-null  object\n",
      " 1   Source           10681 non-null  object\n",
      " 2   Destination      10681 non-null  object\n",
      " 3   Route            10681 non-null  object\n",
      " 4   Total_Stops      10681 non-null  int64 \n",
      " 5   Additional_Info  10681 non-null  object\n",
      " 6   Price            10681 non-null  int64 \n",
      " 7   holiday          10681 non-null  object\n",
      " 8   day              10681 non-null  object\n",
      " 9   Journey_Day      10681 non-null  int64 \n",
      " 10  Journey_Month    10681 non-null  int64 \n",
      " 11  Dep_Hour         10681 non-null  int64 \n",
      " 12  Dep_Minute       10681 non-null  int64 \n",
      " 13  Arrival_hour     10681 non-null  int64 \n",
      " 14  Arrival_min      10681 non-null  int64 \n",
      " 15  Duration_Hour    10681 non-null  int64 \n",
      " 16  Duration_Minute  10681 non-null  int64 \n",
      "dtypes: int64(10), object(7)\n",
      "memory usage: 1.4+ MB\n"
     ]
    }
   ],
   "source": [
    "df.info()"
   ]
  },
  {
   "cell_type": "code",
   "execution_count": 61,
   "id": "ecabee76",
   "metadata": {},
   "outputs": [
    {
     "data": {
      "text/plain": [
       "Jet Airways                          3849\n",
       "IndiGo                               2053\n",
       "Air India                            1750\n",
       "Multiple carriers                    1196\n",
       "SpiceJet                              818\n",
       "Vistara                               479\n",
       "Air Asia                              319\n",
       "GoAir                                 194\n",
       "Multiple carriers Premium economy      13\n",
       "Jet Airways Business                    6\n",
       "Vistara Premium economy                 3\n",
       "Trujet                                  1\n",
       "Name: Airline, dtype: int64"
      ]
     },
     "execution_count": 61,
     "metadata": {},
     "output_type": "execute_result"
    }
   ],
   "source": [
    "df[\"Airline\"].value_counts()"
   ]
  },
  {
   "cell_type": "code",
   "execution_count": 62,
   "id": "726fa057",
   "metadata": {},
   "outputs": [
    {
     "data": {
      "image/png": "[encoded data removed]",
      "text/plain": [
       "<Figure size 1296x432 with 1 Axes>"
      ]
     },
     "metadata": {},
     "output_type": "display_data"
    }
   ],
   "source": [
    "# From graph we can see that Jet Airways Business have the highest Price.\n",
    "# Apart from the first Airline almost all are having similar median\n",
    "\n",
    "# Airline vs Price\n",
    "sns.catplot(y = \"Price\", x = \"Airline\", data = df.sort_values(\"Price\", ascending = False), kind=\"boxen\", height = 6, aspect = 3)\n",
    "plt.show()"
   ]
  },
  {
   "cell_type": "code",
   "execution_count": 63,
   "id": "a1630ac7",
   "metadata": {},
   "outputs": [
    {
     "data": {
      "text/html": [
       "<div>\n",
       "<style scoped>\n",
       "    .dataframe tbody tr th:only-of-type {\n",
       "        vertical-align: middle;\n",
       "    }\n",
       "\n",
       "    .dataframe tbody tr th {\n",
       "        vertical-align: top;\n",
       "    }\n",
       "\n",
       "    .dataframe thead th {\n",
       "        text-align: right;\n",
       "    }\n",
       "</style>\n",
       "<table border=\"1\" class=\"dataframe\">\n",
       "  <thead>\n",
       "    <tr style=\"text-align: right;\">\n",
       "      <th></th>\n",
       "      <th>Airline_Air India</th>\n",
       "      <th>Airline_GoAir</th>\n",
       "      <th>Airline_IndiGo</th>\n",
       "      <th>Airline_Jet Airways</th>\n",
       "      <th>Airline_Jet Airways Business</th>\n",
       "      <th>Airline_Multiple carriers</th>\n",
       "      <th>Airline_Multiple carriers Premium economy</th>\n",
       "      <th>Airline_SpiceJet</th>\n",
       "      <th>Airline_Trujet</th>\n",
       "      <th>Airline_Vistara</th>\n",
       "      <th>Airline_Vistara Premium economy</th>\n",
       "    </tr>\n",
       "  </thead>\n",
       "  <tbody>\n",
       "    <tr>\n",
       "      <th>0</th>\n",
       "      <td>0</td>\n",
       "      <td>0</td>\n",
       "      <td>1</td>\n",
       "      <td>0</td>\n",
       "      <td>0</td>\n",
       "      <td>0</td>\n",
       "      <td>0</td>\n",
       "      <td>0</td>\n",
       "      <td>0</td>\n",
       "      <td>0</td>\n",
       "      <td>0</td>\n",
       "    </tr>\n",
       "    <tr>\n",
       "      <th>1</th>\n",
       "      <td>1</td>\n",
       "      <td>0</td>\n",
       "      <td>0</td>\n",
       "      <td>0</td>\n",
       "      <td>0</td>\n",
       "      <td>0</td>\n",
       "      <td>0</td>\n",
       "      <td>0</td>\n",
       "      <td>0</td>\n",
       "      <td>0</td>\n",
       "      <td>0</td>\n",
       "    </tr>\n",
       "    <tr>\n",
       "      <th>2</th>\n",
       "      <td>0</td>\n",
       "      <td>0</td>\n",
       "      <td>0</td>\n",
       "      <td>1</td>\n",
       "      <td>0</td>\n",
       "      <td>0</td>\n",
       "      <td>0</td>\n",
       "      <td>0</td>\n",
       "      <td>0</td>\n",
       "      <td>0</td>\n",
       "      <td>0</td>\n",
       "    </tr>\n",
       "    <tr>\n",
       "      <th>3</th>\n",
       "      <td>0</td>\n",
       "      <td>0</td>\n",
       "      <td>1</td>\n",
       "      <td>0</td>\n",
       "      <td>0</td>\n",
       "      <td>0</td>\n",
       "      <td>0</td>\n",
       "      <td>0</td>\n",
       "      <td>0</td>\n",
       "      <td>0</td>\n",
       "      <td>0</td>\n",
       "    </tr>\n",
       "    <tr>\n",
       "      <th>4</th>\n",
       "      <td>0</td>\n",
       "      <td>0</td>\n",
       "      <td>1</td>\n",
       "      <td>0</td>\n",
       "      <td>0</td>\n",
       "      <td>0</td>\n",
       "      <td>0</td>\n",
       "      <td>0</td>\n",
       "      <td>0</td>\n",
       "      <td>0</td>\n",
       "      <td>0</td>\n",
       "    </tr>\n",
       "  </tbody>\n",
       "</table>\n",
       "</div>"
      ],
      "text/plain": [
       "   Airline_Air India  Airline_GoAir  Airline_IndiGo  Airline_Jet Airways  \\\n",
       "0                  0              0               1                    0   \n",
       "1                  1              0               0                    0   \n",
       "2                  0              0               0                    1   \n",
       "3                  0              0               1                    0   \n",
       "4                  0              0               1                    0   \n",
       "\n",
       "   Airline_Jet Airways Business  Airline_Multiple carriers  \\\n",
       "0                             0                          0   \n",
       "1                             0                          0   \n",
       "2                             0                          0   \n",
       "3                             0                          0   \n",
       "4                             0                          0   \n",
       "\n",
       "   Airline_Multiple carriers Premium economy  Airline_SpiceJet  \\\n",
       "0                                          0                 0   \n",
       "1                                          0                 0   \n",
       "2                                          0                 0   \n",
       "3                                          0                 0   \n",
       "4                                          0                 0   \n",
       "\n",
       "   Airline_Trujet  Airline_Vistara  Airline_Vistara Premium economy  \n",
       "0               0                0                                0  \n",
       "1               0                0                                0  \n",
       "2               0                0                                0  \n",
       "3               0                0                                0  \n",
       "4               0                0                                0  "
      ]
     },
     "execution_count": 63,
     "metadata": {},
     "output_type": "execute_result"
    }
   ],
   "source": [
    "# As Airline is Nominal Categorical data we will perform OneHotEncoding\n",
    "\n",
    "Airline = df[[\"Airline\"]]\n",
    "\n",
    "Airline = pd.get_dummies(Airline, drop_first= True)\n",
    "\n",
    "Airline.head()"
   ]
  },
  {
   "cell_type": "code",
   "execution_count": 64,
   "id": "0f7f5055",
   "metadata": {},
   "outputs": [
    {
     "data": {
      "text/plain": [
       "Delhi       4536\n",
       "Kolkata     2871\n",
       "Banglore    2197\n",
       "Mumbai       696\n",
       "Chennai      381\n",
       "Name: Source, dtype: int64"
      ]
     },
     "execution_count": 64,
     "metadata": {},
     "output_type": "execute_result"
    }
   ],
   "source": [
    "df[\"Source\"].value_counts()"
   ]
  },
  {
   "cell_type": "code",
   "execution_count": 65,
   "id": "5391c59b",
   "metadata": {},
   "outputs": [
    {
     "data": {
      "image/png": "[encoded data removed]",
      "text/plain": [
       "<Figure size 864x288 with 1 Axes>"
      ]
     },
     "metadata": {},
     "output_type": "display_data"
    }
   ],
   "source": [
    "# Source vs Price\n",
    "\n",
    "sns.catplot(y = \"Price\", x = \"Source\", data = df.sort_values(\"Price\", ascending = False), kind=\"boxen\", height = 4, aspect = 3)\n",
    "plt.show()"
   ]
  },
  {
   "cell_type": "code",
   "execution_count": 66,
   "id": "b97decd2",
   "metadata": {},
   "outputs": [
    {
     "data": {
      "text/html": [
       "<div>\n",
       "<style scoped>\n",
       "    .dataframe tbody tr th:only-of-type {\n",
       "        vertical-align: middle;\n",
       "    }\n",
       "\n",
       "    .dataframe tbody tr th {\n",
       "        vertical-align: top;\n",
       "    }\n",
       "\n",
       "    .dataframe thead th {\n",
       "        text-align: right;\n",
       "    }\n",
       "</style>\n",
       "<table border=\"1\" class=\"dataframe\">\n",
       "  <thead>\n",
       "    <tr style=\"text-align: right;\">\n",
       "      <th></th>\n",
       "      <th>Source_Chennai</th>\n",
       "      <th>Source_Delhi</th>\n",
       "      <th>Source_Kolkata</th>\n",
       "      <th>Source_Mumbai</th>\n",
       "    </tr>\n",
       "  </thead>\n",
       "  <tbody>\n",
       "    <tr>\n",
       "      <th>0</th>\n",
       "      <td>0</td>\n",
       "      <td>0</td>\n",
       "      <td>0</td>\n",
       "      <td>0</td>\n",
       "    </tr>\n",
       "    <tr>\n",
       "      <th>1</th>\n",
       "      <td>0</td>\n",
       "      <td>0</td>\n",
       "      <td>1</td>\n",
       "      <td>0</td>\n",
       "    </tr>\n",
       "    <tr>\n",
       "      <th>2</th>\n",
       "      <td>0</td>\n",
       "      <td>1</td>\n",
       "      <td>0</td>\n",
       "      <td>0</td>\n",
       "    </tr>\n",
       "    <tr>\n",
       "      <th>3</th>\n",
       "      <td>0</td>\n",
       "      <td>0</td>\n",
       "      <td>1</td>\n",
       "      <td>0</td>\n",
       "    </tr>\n",
       "    <tr>\n",
       "      <th>4</th>\n",
       "      <td>0</td>\n",
       "      <td>0</td>\n",
       "      <td>0</td>\n",
       "      <td>0</td>\n",
       "    </tr>\n",
       "  </tbody>\n",
       "</table>\n",
       "</div>"
      ],
      "text/plain": [
       "   Source_Chennai  Source_Delhi  Source_Kolkata  Source_Mumbai\n",
       "0               0             0               0              0\n",
       "1               0             0               1              0\n",
       "2               0             1               0              0\n",
       "3               0             0               1              0\n",
       "4               0             0               0              0"
      ]
     },
     "execution_count": 66,
     "metadata": {},
     "output_type": "execute_result"
    }
   ],
   "source": [
    "# As Source is Nominal Categorical data we will perform OneHotEncoding\n",
    "\n",
    "Source = df[[\"Source\"]]\n",
    "\n",
    "Source = pd.get_dummies(Source, drop_first= True)\n",
    "\n",
    "Source.head()"
   ]
  },
  {
   "cell_type": "code",
   "execution_count": 67,
   "id": "fb346e1a",
   "metadata": {},
   "outputs": [
    {
     "data": {
      "text/plain": [
       "Cochin       4536\n",
       "Banglore     2871\n",
       "Delhi        1265\n",
       "New Delhi     932\n",
       "Hyderabad     696\n",
       "Kolkata       381\n",
       "Name: Destination, dtype: int64"
      ]
     },
     "execution_count": 67,
     "metadata": {},
     "output_type": "execute_result"
    }
   ],
   "source": [
    "df[\"Destination\"].value_counts()"
   ]
  },
  {
   "cell_type": "code",
   "execution_count": 68,
   "id": "5f439814",
   "metadata": {},
   "outputs": [
    {
     "data": {
      "text/html": [
       "<div>\n",
       "<style scoped>\n",
       "    .dataframe tbody tr th:only-of-type {\n",
       "        vertical-align: middle;\n",
       "    }\n",
       "\n",
       "    .dataframe tbody tr th {\n",
       "        vertical-align: top;\n",
       "    }\n",
       "\n",
       "    .dataframe thead th {\n",
       "        text-align: right;\n",
       "    }\n",
       "</style>\n",
       "<table border=\"1\" class=\"dataframe\">\n",
       "  <thead>\n",
       "    <tr style=\"text-align: right;\">\n",
       "      <th></th>\n",
       "      <th>Destination_Cochin</th>\n",
       "      <th>Destination_Delhi</th>\n",
       "      <th>Destination_Hyderabad</th>\n",
       "      <th>Destination_Kolkata</th>\n",
       "      <th>Destination_New Delhi</th>\n",
       "    </tr>\n",
       "  </thead>\n",
       "  <tbody>\n",
       "    <tr>\n",
       "      <th>0</th>\n",
       "      <td>0</td>\n",
       "      <td>0</td>\n",
       "      <td>0</td>\n",
       "      <td>0</td>\n",
       "      <td>1</td>\n",
       "    </tr>\n",
       "    <tr>\n",
       "      <th>1</th>\n",
       "      <td>0</td>\n",
       "      <td>0</td>\n",
       "      <td>0</td>\n",
       "      <td>0</td>\n",
       "      <td>0</td>\n",
       "    </tr>\n",
       "    <tr>\n",
       "      <th>2</th>\n",
       "      <td>1</td>\n",
       "      <td>0</td>\n",
       "      <td>0</td>\n",
       "      <td>0</td>\n",
       "      <td>0</td>\n",
       "    </tr>\n",
       "    <tr>\n",
       "      <th>3</th>\n",
       "      <td>0</td>\n",
       "      <td>0</td>\n",
       "      <td>0</td>\n",
       "      <td>0</td>\n",
       "      <td>0</td>\n",
       "    </tr>\n",
       "    <tr>\n",
       "      <th>4</th>\n",
       "      <td>0</td>\n",
       "      <td>0</td>\n",
       "      <td>0</td>\n",
       "      <td>0</td>\n",
       "      <td>1</td>\n",
       "    </tr>\n",
       "  </tbody>\n",
       "</table>\n",
       "</div>"
      ],
      "text/plain": [
       "   Destination_Cochin  Destination_Delhi  Destination_Hyderabad  \\\n",
       "0                   0                  0                      0   \n",
       "1                   0                  0                      0   \n",
       "2                   1                  0                      0   \n",
       "3                   0                  0                      0   \n",
       "4                   0                  0                      0   \n",
       "\n",
       "   Destination_Kolkata  Destination_New Delhi  \n",
       "0                    0                      1  \n",
       "1                    0                      0  \n",
       "2                    0                      0  \n",
       "3                    0                      0  \n",
       "4                    0                      1  "
      ]
     },
     "execution_count": 68,
     "metadata": {},
     "output_type": "execute_result"
    }
   ],
   "source": [
    "# As Destination is Nominal Categorical data we will perform OneHotEncoding\n",
    "\n",
    "Destination = df[[\"Destination\"]]\n",
    "\n",
    "Destination = pd.get_dummies(Destination, drop_first = True)\n",
    "\n",
    "Destination.head()"
   ]
  },
  {
   "cell_type": "code",
   "execution_count": 69,
   "id": "7adc3772",
   "metadata": {},
   "outputs": [
    {
     "data": {
      "text/plain": [
       "Non Holiday    8800\n",
       "Holiday        1881\n",
       "Name: holiday, dtype: int64"
      ]
     },
     "execution_count": 69,
     "metadata": {},
     "output_type": "execute_result"
    }
   ],
   "source": [
    "df[\"holiday\"].value_counts()"
   ]
  },
  {
   "cell_type": "code",
   "execution_count": 70,
   "id": "70da6f2b",
   "metadata": {},
   "outputs": [
    {
     "data": {
      "text/html": [
       "<div>\n",
       "<style scoped>\n",
       "    .dataframe tbody tr th:only-of-type {\n",
       "        vertical-align: middle;\n",
       "    }\n",
       "\n",
       "    .dataframe tbody tr th {\n",
       "        vertical-align: top;\n",
       "    }\n",
       "\n",
       "    .dataframe thead th {\n",
       "        text-align: right;\n",
       "    }\n",
       "</style>\n",
       "<table border=\"1\" class=\"dataframe\">\n",
       "  <thead>\n",
       "    <tr style=\"text-align: right;\">\n",
       "      <th></th>\n",
       "      <th>holiday_Non Holiday</th>\n",
       "    </tr>\n",
       "  </thead>\n",
       "  <tbody>\n",
       "    <tr>\n",
       "      <th>0</th>\n",
       "      <td>1</td>\n",
       "    </tr>\n",
       "    <tr>\n",
       "      <th>1</th>\n",
       "      <td>1</td>\n",
       "    </tr>\n",
       "    <tr>\n",
       "      <th>2</th>\n",
       "      <td>1</td>\n",
       "    </tr>\n",
       "    <tr>\n",
       "      <th>3</th>\n",
       "      <td>1</td>\n",
       "    </tr>\n",
       "    <tr>\n",
       "      <th>4</th>\n",
       "      <td>0</td>\n",
       "    </tr>\n",
       "  </tbody>\n",
       "</table>\n",
       "</div>"
      ],
      "text/plain": [
       "   holiday_Non Holiday\n",
       "0                    1\n",
       "1                    1\n",
       "2                    1\n",
       "3                    1\n",
       "4                    0"
      ]
     },
     "execution_count": 70,
     "metadata": {},
     "output_type": "execute_result"
    }
   ],
   "source": [
    "# As Holiday is Nominal Categorical data we will perform OneHotEncoding\n",
    "holiday = df[[\"holiday\"]]\n",
    "\n",
    "holiday = pd.get_dummies(holiday, drop_first = True)\n",
    "\n",
    "holiday.head()"
   ]
  },
  {
   "cell_type": "code",
   "execution_count": 71,
   "id": "851d5865",
   "metadata": {},
   "outputs": [
    {
     "data": {
      "text/plain": [
       "Weekday    7537\n",
       "Weekend    3144\n",
       "Name: day, dtype: int64"
      ]
     },
     "execution_count": 71,
     "metadata": {},
     "output_type": "execute_result"
    }
   ],
   "source": [
    "df[\"day\"].value_counts()"
   ]
  },
  {
   "cell_type": "code",
   "execution_count": 72,
   "id": "712387be",
   "metadata": {},
   "outputs": [
    {
     "data": {
      "text/html": [
       "<div>\n",
       "<style scoped>\n",
       "    .dataframe tbody tr th:only-of-type {\n",
       "        vertical-align: middle;\n",
       "    }\n",
       "\n",
       "    .dataframe tbody tr th {\n",
       "        vertical-align: top;\n",
       "    }\n",
       "\n",
       "    .dataframe thead th {\n",
       "        text-align: right;\n",
       "    }\n",
       "</style>\n",
       "<table border=\"1\" class=\"dataframe\">\n",
       "  <thead>\n",
       "    <tr style=\"text-align: right;\">\n",
       "      <th></th>\n",
       "      <th>day_Weekend</th>\n",
       "    </tr>\n",
       "  </thead>\n",
       "  <tbody>\n",
       "    <tr>\n",
       "      <th>0</th>\n",
       "      <td>1</td>\n",
       "    </tr>\n",
       "    <tr>\n",
       "      <th>1</th>\n",
       "      <td>0</td>\n",
       "    </tr>\n",
       "    <tr>\n",
       "      <th>2</th>\n",
       "      <td>1</td>\n",
       "    </tr>\n",
       "    <tr>\n",
       "      <th>3</th>\n",
       "      <td>1</td>\n",
       "    </tr>\n",
       "    <tr>\n",
       "      <th>4</th>\n",
       "      <td>0</td>\n",
       "    </tr>\n",
       "  </tbody>\n",
       "</table>\n",
       "</div>"
      ],
      "text/plain": [
       "   day_Weekend\n",
       "0            1\n",
       "1            0\n",
       "2            1\n",
       "3            1\n",
       "4            0"
      ]
     },
     "execution_count": 72,
     "metadata": {},
     "output_type": "execute_result"
    }
   ],
   "source": [
    "# As Holiday is Nominal Categorical data we will perform OneHotEncoding\n",
    "day = df[[\"day\"]]\n",
    "\n",
    "day = pd.get_dummies(day, drop_first = True)\n",
    "\n",
    "day.head()"
   ]
  },
  {
   "cell_type": "code",
   "execution_count": 73,
   "id": "c85c7415",
   "metadata": {},
   "outputs": [
    {
     "data": {
      "text/plain": [
       "0                    BLR ? DEL\n",
       "1        CCU ? IXR ? BBI ? BLR\n",
       "2        DEL ? LKO ? BOM ? COK\n",
       "3              CCU ? NAG ? BLR\n",
       "4              BLR ? NAG ? DEL\n",
       "                 ...          \n",
       "10676                CCU ? BLR\n",
       "10677                CCU ? BLR\n",
       "10678                BLR ? DEL\n",
       "10679                BLR ? DEL\n",
       "10680    DEL ? GOI ? BOM ? COK\n",
       "Name: Route, Length: 10681, dtype: object"
      ]
     },
     "execution_count": 73,
     "metadata": {},
     "output_type": "execute_result"
    }
   ],
   "source": [
    "df[\"Route\"]"
   ]
  },
  {
   "cell_type": "code",
   "execution_count": 74,
   "id": "3b3635c9",
   "metadata": {},
   "outputs": [],
   "source": [
    "# Additional_Info contains almost 80% no_info\n",
    "# Route and Total_Stops are related to each other\n",
    "\n",
    "df.drop([\"Route\", \"Additional_Info\"], axis = 1, inplace = True)"
   ]
  },
  {
   "cell_type": "code",
   "execution_count": 75,
   "id": "eb768169",
   "metadata": {},
   "outputs": [
    {
     "data": {
      "text/plain": [
       "1    5625\n",
       "0    3491\n",
       "2    1519\n",
       "3      45\n",
       "4       1\n",
       "Name: Total_Stops, dtype: int64"
      ]
     },
     "execution_count": 75,
     "metadata": {},
     "output_type": "execute_result"
    }
   ],
   "source": [
    "df[\"Total_Stops\"].value_counts()"
   ]
  },
  {
   "cell_type": "code",
   "execution_count": 76,
   "id": "5c26569f",
   "metadata": {},
   "outputs": [],
   "source": [
    "# As this is case of Ordinal Categorical type we perform LabelEncoder\n",
    "# Here Values are assigned with corresponding keys\n",
    "\n",
    "df.replace({\"non-stop\": 0, \"1 stop\": 1, \"2 stops\": 2, \"3 stops\": 3, \"4 stops\": 4}, inplace = True)"
   ]
  },
  {
   "cell_type": "code",
   "execution_count": 77,
   "id": "b2815280",
   "metadata": {},
   "outputs": [
    {
     "data": {
      "text/html": [
       "<div>\n",
       "<style scoped>\n",
       "    .dataframe tbody tr th:only-of-type {\n",
       "        vertical-align: middle;\n",
       "    }\n",
       "\n",
       "    .dataframe tbody tr th {\n",
       "        vertical-align: top;\n",
       "    }\n",
       "\n",
       "    .dataframe thead th {\n",
       "        text-align: right;\n",
       "    }\n",
       "</style>\n",
       "<table border=\"1\" class=\"dataframe\">\n",
       "  <thead>\n",
       "    <tr style=\"text-align: right;\">\n",
       "      <th></th>\n",
       "      <th>Airline</th>\n",
       "      <th>Source</th>\n",
       "      <th>Destination</th>\n",
       "      <th>Total_Stops</th>\n",
       "      <th>Price</th>\n",
       "      <th>holiday</th>\n",
       "      <th>day</th>\n",
       "      <th>Journey_Day</th>\n",
       "      <th>Journey_Month</th>\n",
       "      <th>Dep_Hour</th>\n",
       "      <th>Dep_Minute</th>\n",
       "      <th>Arrival_hour</th>\n",
       "      <th>Arrival_min</th>\n",
       "      <th>Duration_Hour</th>\n",
       "      <th>Duration_Minute</th>\n",
       "    </tr>\n",
       "  </thead>\n",
       "  <tbody>\n",
       "    <tr>\n",
       "      <th>0</th>\n",
       "      <td>IndiGo</td>\n",
       "      <td>Banglore</td>\n",
       "      <td>New Delhi</td>\n",
       "      <td>0</td>\n",
       "      <td>3897</td>\n",
       "      <td>Non Holiday</td>\n",
       "      <td>Weekend</td>\n",
       "      <td>24</td>\n",
       "      <td>3</td>\n",
       "      <td>22</td>\n",
       "      <td>20</td>\n",
       "      <td>1</td>\n",
       "      <td>10</td>\n",
       "      <td>2</td>\n",
       "      <td>2</td>\n",
       "    </tr>\n",
       "    <tr>\n",
       "      <th>1</th>\n",
       "      <td>Air India</td>\n",
       "      <td>Kolkata</td>\n",
       "      <td>Banglore</td>\n",
       "      <td>2</td>\n",
       "      <td>7662</td>\n",
       "      <td>Non Holiday</td>\n",
       "      <td>Weekday</td>\n",
       "      <td>1</td>\n",
       "      <td>5</td>\n",
       "      <td>5</td>\n",
       "      <td>50</td>\n",
       "      <td>13</td>\n",
       "      <td>15</td>\n",
       "      <td>7</td>\n",
       "      <td>7</td>\n",
       "    </tr>\n",
       "    <tr>\n",
       "      <th>2</th>\n",
       "      <td>Jet Airways</td>\n",
       "      <td>Delhi</td>\n",
       "      <td>Cochin</td>\n",
       "      <td>2</td>\n",
       "      <td>13882</td>\n",
       "      <td>Non Holiday</td>\n",
       "      <td>Weekend</td>\n",
       "      <td>9</td>\n",
       "      <td>6</td>\n",
       "      <td>9</td>\n",
       "      <td>25</td>\n",
       "      <td>4</td>\n",
       "      <td>25</td>\n",
       "      <td>19</td>\n",
       "      <td>19</td>\n",
       "    </tr>\n",
       "    <tr>\n",
       "      <th>3</th>\n",
       "      <td>IndiGo</td>\n",
       "      <td>Kolkata</td>\n",
       "      <td>Banglore</td>\n",
       "      <td>1</td>\n",
       "      <td>6218</td>\n",
       "      <td>Non Holiday</td>\n",
       "      <td>Weekend</td>\n",
       "      <td>12</td>\n",
       "      <td>5</td>\n",
       "      <td>18</td>\n",
       "      <td>5</td>\n",
       "      <td>23</td>\n",
       "      <td>30</td>\n",
       "      <td>5</td>\n",
       "      <td>5</td>\n",
       "    </tr>\n",
       "    <tr>\n",
       "      <th>4</th>\n",
       "      <td>IndiGo</td>\n",
       "      <td>Banglore</td>\n",
       "      <td>New Delhi</td>\n",
       "      <td>1</td>\n",
       "      <td>13302</td>\n",
       "      <td>Holiday</td>\n",
       "      <td>Weekday</td>\n",
       "      <td>1</td>\n",
       "      <td>3</td>\n",
       "      <td>16</td>\n",
       "      <td>50</td>\n",
       "      <td>21</td>\n",
       "      <td>35</td>\n",
       "      <td>4</td>\n",
       "      <td>4</td>\n",
       "    </tr>\n",
       "  </tbody>\n",
       "</table>\n",
       "</div>"
      ],
      "text/plain": [
       "       Airline    Source Destination  Total_Stops  Price      holiday  \\\n",
       "0       IndiGo  Banglore   New Delhi            0   3897  Non Holiday   \n",
       "1    Air India   Kolkata    Banglore            2   7662  Non Holiday   \n",
       "2  Jet Airways     Delhi      Cochin            2  13882  Non Holiday   \n",
       "3       IndiGo   Kolkata    Banglore            1   6218  Non Holiday   \n",
       "4       IndiGo  Banglore   New Delhi            1  13302      Holiday   \n",
       "\n",
       "       day  Journey_Day  Journey_Month  Dep_Hour  Dep_Minute  Arrival_hour  \\\n",
       "0  Weekend           24              3        22          20             1   \n",
       "1  Weekday            1              5         5          50            13   \n",
       "2  Weekend            9              6         9          25             4   \n",
       "3  Weekend           12              5        18           5            23   \n",
       "4  Weekday            1              3        16          50            21   \n",
       "\n",
       "   Arrival_min  Duration_Hour  Duration_Minute  \n",
       "0           10              2                2  \n",
       "1           15              7                7  \n",
       "2           25             19               19  \n",
       "3           30              5                5  \n",
       "4           35              4                4  "
      ]
     },
     "execution_count": 77,
     "metadata": {},
     "output_type": "execute_result"
    }
   ],
   "source": [
    "df.head()"
   ]
  },
  {
   "cell_type": "code",
   "execution_count": 78,
   "id": "ca2f7d74",
   "metadata": {},
   "outputs": [],
   "source": [
    "# Concatenate dataframe --> train_data + Airline + Source + Destination + holiday + day\n",
    "\n",
    "df = pd.concat([df, Airline, Source, Destination, holiday, day], axis = 1)"
   ]
  },
  {
   "cell_type": "code",
   "execution_count": 79,
   "id": "33f32539",
   "metadata": {},
   "outputs": [
    {
     "data": {
      "text/html": [
       "<div>\n",
       "<style scoped>\n",
       "    .dataframe tbody tr th:only-of-type {\n",
       "        vertical-align: middle;\n",
       "    }\n",
       "\n",
       "    .dataframe tbody tr th {\n",
       "        vertical-align: top;\n",
       "    }\n",
       "\n",
       "    .dataframe thead th {\n",
       "        text-align: right;\n",
       "    }\n",
       "</style>\n",
       "<table border=\"1\" class=\"dataframe\">\n",
       "  <thead>\n",
       "    <tr style=\"text-align: right;\">\n",
       "      <th></th>\n",
       "      <th>Airline</th>\n",
       "      <th>Source</th>\n",
       "      <th>Destination</th>\n",
       "      <th>Total_Stops</th>\n",
       "      <th>Price</th>\n",
       "      <th>holiday</th>\n",
       "      <th>day</th>\n",
       "      <th>Journey_Day</th>\n",
       "      <th>Journey_Month</th>\n",
       "      <th>Dep_Hour</th>\n",
       "      <th>Dep_Minute</th>\n",
       "      <th>Arrival_hour</th>\n",
       "      <th>Arrival_min</th>\n",
       "      <th>Duration_Hour</th>\n",
       "      <th>Duration_Minute</th>\n",
       "      <th>Airline_Air India</th>\n",
       "      <th>Airline_GoAir</th>\n",
       "      <th>Airline_IndiGo</th>\n",
       "      <th>Airline_Jet Airways</th>\n",
       "      <th>Airline_Jet Airways Business</th>\n",
       "      <th>Airline_Multiple carriers</th>\n",
       "      <th>Airline_Multiple carriers Premium economy</th>\n",
       "      <th>Airline_SpiceJet</th>\n",
       "      <th>Airline_Trujet</th>\n",
       "      <th>Airline_Vistara</th>\n",
       "      <th>Airline_Vistara Premium economy</th>\n",
       "      <th>Source_Chennai</th>\n",
       "      <th>Source_Delhi</th>\n",
       "      <th>Source_Kolkata</th>\n",
       "      <th>Source_Mumbai</th>\n",
       "      <th>Destination_Cochin</th>\n",
       "      <th>Destination_Delhi</th>\n",
       "      <th>Destination_Hyderabad</th>\n",
       "      <th>Destination_Kolkata</th>\n",
       "      <th>Destination_New Delhi</th>\n",
       "      <th>holiday_Non Holiday</th>\n",
       "      <th>day_Weekend</th>\n",
       "    </tr>\n",
       "  </thead>\n",
       "  <tbody>\n",
       "    <tr>\n",
       "      <th>0</th>\n",
       "      <td>IndiGo</td>\n",
       "      <td>Banglore</td>\n",
       "      <td>New Delhi</td>\n",
       "      <td>0</td>\n",
       "      <td>3897</td>\n",
       "      <td>Non Holiday</td>\n",
       "      <td>Weekend</td>\n",
       "      <td>24</td>\n",
       "      <td>3</td>\n",
       "      <td>22</td>\n",
       "      <td>20</td>\n",
       "      <td>1</td>\n",
       "      <td>10</td>\n",
       "      <td>2</td>\n",
       "      <td>2</td>\n",
       "      <td>0</td>\n",
       "      <td>0</td>\n",
       "      <td>1</td>\n",
       "      <td>0</td>\n",
       "      <td>0</td>\n",
       "      <td>0</td>\n",
       "      <td>0</td>\n",
       "      <td>0</td>\n",
       "      <td>0</td>\n",
       "      <td>0</td>\n",
       "      <td>0</td>\n",
       "      <td>0</td>\n",
       "      <td>0</td>\n",
       "      <td>0</td>\n",
       "      <td>0</td>\n",
       "      <td>0</td>\n",
       "      <td>0</td>\n",
       "      <td>0</td>\n",
       "      <td>0</td>\n",
       "      <td>1</td>\n",
       "      <td>1</td>\n",
       "      <td>1</td>\n",
       "    </tr>\n",
       "    <tr>\n",
       "      <th>1</th>\n",
       "      <td>Air India</td>\n",
       "      <td>Kolkata</td>\n",
       "      <td>Banglore</td>\n",
       "      <td>2</td>\n",
       "      <td>7662</td>\n",
       "      <td>Non Holiday</td>\n",
       "      <td>Weekday</td>\n",
       "      <td>1</td>\n",
       "      <td>5</td>\n",
       "      <td>5</td>\n",
       "      <td>50</td>\n",
       "      <td>13</td>\n",
       "      <td>15</td>\n",
       "      <td>7</td>\n",
       "      <td>7</td>\n",
       "      <td>1</td>\n",
       "      <td>0</td>\n",
       "      <td>0</td>\n",
       "      <td>0</td>\n",
       "      <td>0</td>\n",
       "      <td>0</td>\n",
       "      <td>0</td>\n",
       "      <td>0</td>\n",
       "      <td>0</td>\n",
       "      <td>0</td>\n",
       "      <td>0</td>\n",
       "      <td>0</td>\n",
       "      <td>0</td>\n",
       "      <td>1</td>\n",
       "      <td>0</td>\n",
       "      <td>0</td>\n",
       "      <td>0</td>\n",
       "      <td>0</td>\n",
       "      <td>0</td>\n",
       "      <td>0</td>\n",
       "      <td>1</td>\n",
       "      <td>0</td>\n",
       "    </tr>\n",
       "    <tr>\n",
       "      <th>2</th>\n",
       "      <td>Jet Airways</td>\n",
       "      <td>Delhi</td>\n",
       "      <td>Cochin</td>\n",
       "      <td>2</td>\n",
       "      <td>13882</td>\n",
       "      <td>Non Holiday</td>\n",
       "      <td>Weekend</td>\n",
       "      <td>9</td>\n",
       "      <td>6</td>\n",
       "      <td>9</td>\n",
       "      <td>25</td>\n",
       "      <td>4</td>\n",
       "      <td>25</td>\n",
       "      <td>19</td>\n",
       "      <td>19</td>\n",
       "      <td>0</td>\n",
       "      <td>0</td>\n",
       "      <td>0</td>\n",
       "      <td>1</td>\n",
       "      <td>0</td>\n",
       "      <td>0</td>\n",
       "      <td>0</td>\n",
       "      <td>0</td>\n",
       "      <td>0</td>\n",
       "      <td>0</td>\n",
       "      <td>0</td>\n",
       "      <td>0</td>\n",
       "      <td>1</td>\n",
       "      <td>0</td>\n",
       "      <td>0</td>\n",
       "      <td>1</td>\n",
       "      <td>0</td>\n",
       "      <td>0</td>\n",
       "      <td>0</td>\n",
       "      <td>0</td>\n",
       "      <td>1</td>\n",
       "      <td>1</td>\n",
       "    </tr>\n",
       "    <tr>\n",
       "      <th>3</th>\n",
       "      <td>IndiGo</td>\n",
       "      <td>Kolkata</td>\n",
       "      <td>Banglore</td>\n",
       "      <td>1</td>\n",
       "      <td>6218</td>\n",
       "      <td>Non Holiday</td>\n",
       "      <td>Weekend</td>\n",
       "      <td>12</td>\n",
       "      <td>5</td>\n",
       "      <td>18</td>\n",
       "      <td>5</td>\n",
       "      <td>23</td>\n",
       "      <td>30</td>\n",
       "      <td>5</td>\n",
       "      <td>5</td>\n",
       "      <td>0</td>\n",
       "      <td>0</td>\n",
       "      <td>1</td>\n",
       "      <td>0</td>\n",
       "      <td>0</td>\n",
       "      <td>0</td>\n",
       "      <td>0</td>\n",
       "      <td>0</td>\n",
       "      <td>0</td>\n",
       "      <td>0</td>\n",
       "      <td>0</td>\n",
       "      <td>0</td>\n",
       "      <td>0</td>\n",
       "      <td>1</td>\n",
       "      <td>0</td>\n",
       "      <td>0</td>\n",
       "      <td>0</td>\n",
       "      <td>0</td>\n",
       "      <td>0</td>\n",
       "      <td>0</td>\n",
       "      <td>1</td>\n",
       "      <td>1</td>\n",
       "    </tr>\n",
       "    <tr>\n",
       "      <th>4</th>\n",
       "      <td>IndiGo</td>\n",
       "      <td>Banglore</td>\n",
       "      <td>New Delhi</td>\n",
       "      <td>1</td>\n",
       "      <td>13302</td>\n",
       "      <td>Holiday</td>\n",
       "      <td>Weekday</td>\n",
       "      <td>1</td>\n",
       "      <td>3</td>\n",
       "      <td>16</td>\n",
       "      <td>50</td>\n",
       "      <td>21</td>\n",
       "      <td>35</td>\n",
       "      <td>4</td>\n",
       "      <td>4</td>\n",
       "      <td>0</td>\n",
       "      <td>0</td>\n",
       "      <td>1</td>\n",
       "      <td>0</td>\n",
       "      <td>0</td>\n",
       "      <td>0</td>\n",
       "      <td>0</td>\n",
       "      <td>0</td>\n",
       "      <td>0</td>\n",
       "      <td>0</td>\n",
       "      <td>0</td>\n",
       "      <td>0</td>\n",
       "      <td>0</td>\n",
       "      <td>0</td>\n",
       "      <td>0</td>\n",
       "      <td>0</td>\n",
       "      <td>0</td>\n",
       "      <td>0</td>\n",
       "      <td>0</td>\n",
       "      <td>1</td>\n",
       "      <td>0</td>\n",
       "      <td>0</td>\n",
       "    </tr>\n",
       "  </tbody>\n",
       "</table>\n",
       "</div>"
      ],
      "text/plain": [
       "       Airline    Source Destination  Total_Stops  Price      holiday  \\\n",
       "0       IndiGo  Banglore   New Delhi            0   3897  Non Holiday   \n",
       "1    Air India   Kolkata    Banglore            2   7662  Non Holiday   \n",
       "2  Jet Airways     Delhi      Cochin            2  13882  Non Holiday   \n",
       "3       IndiGo   Kolkata    Banglore            1   6218  Non Holiday   \n",
       "4       IndiGo  Banglore   New Delhi            1  13302      Holiday   \n",
       "\n",
       "       day  Journey_Day  Journey_Month  Dep_Hour  Dep_Minute  Arrival_hour  \\\n",
       "0  Weekend           24              3        22          20             1   \n",
       "1  Weekday            1              5         5          50            13   \n",
       "2  Weekend            9              6         9          25             4   \n",
       "3  Weekend           12              5        18           5            23   \n",
       "4  Weekday            1              3        16          50            21   \n",
       "\n",
       "   Arrival_min  Duration_Hour  Duration_Minute  Airline_Air India  \\\n",
       "0           10              2                2                  0   \n",
       "1           15              7                7                  1   \n",
       "2           25             19               19                  0   \n",
       "3           30              5                5                  0   \n",
       "4           35              4                4                  0   \n",
       "\n",
       "   Airline_GoAir  Airline_IndiGo  Airline_Jet Airways  \\\n",
       "0              0               1                    0   \n",
       "1              0               0                    0   \n",
       "2              0               0                    1   \n",
       "3              0               1                    0   \n",
       "4              0               1                    0   \n",
       "\n",
       "   Airline_Jet Airways Business  Airline_Multiple carriers  \\\n",
       "0                             0                          0   \n",
       "1                             0                          0   \n",
       "2                             0                          0   \n",
       "3                             0                          0   \n",
       "4                             0                          0   \n",
       "\n",
       "   Airline_Multiple carriers Premium economy  Airline_SpiceJet  \\\n",
       "0                                          0                 0   \n",
       "1                                          0                 0   \n",
       "2                                          0                 0   \n",
       "3                                          0                 0   \n",
       "4                                          0                 0   \n",
       "\n",
       "   Airline_Trujet  Airline_Vistara  Airline_Vistara Premium economy  \\\n",
       "0               0                0                                0   \n",
       "1               0                0                                0   \n",
       "2               0                0                                0   \n",
       "3               0                0                                0   \n",
       "4               0                0                                0   \n",
       "\n",
       "   Source_Chennai  Source_Delhi  Source_Kolkata  Source_Mumbai  \\\n",
       "0               0             0               0              0   \n",
       "1               0             0               1              0   \n",
       "2               0             1               0              0   \n",
       "3               0             0               1              0   \n",
       "4               0             0               0              0   \n",
       "\n",
       "   Destination_Cochin  Destination_Delhi  Destination_Hyderabad  \\\n",
       "0                   0                  0                      0   \n",
       "1                   0                  0                      0   \n",
       "2                   1                  0                      0   \n",
       "3                   0                  0                      0   \n",
       "4                   0                  0                      0   \n",
       "\n",
       "   Destination_Kolkata  Destination_New Delhi  holiday_Non Holiday  \\\n",
       "0                    0                      1                    1   \n",
       "1                    0                      0                    1   \n",
       "2                    0                      0                    1   \n",
       "3                    0                      0                    1   \n",
       "4                    0                      1                    0   \n",
       "\n",
       "   day_Weekend  \n",
       "0            1  \n",
       "1            0  \n",
       "2            1  \n",
       "3            1  \n",
       "4            0  "
      ]
     },
     "execution_count": 79,
     "metadata": {},
     "output_type": "execute_result"
    }
   ],
   "source": [
    "df.head()"
   ]
  },
  {
   "cell_type": "code",
   "execution_count": 80,
   "id": "38e81b2b",
   "metadata": {},
   "outputs": [],
   "source": [
    "df.drop([\"Airline\", \"Source\", \"Destination\", \"holiday\", \"day\"], axis = 1, inplace = True)"
   ]
  },
  {
   "cell_type": "code",
   "execution_count": 81,
   "id": "2bfdb72e",
   "metadata": {},
   "outputs": [
    {
     "data": {
      "text/html": [
       "<div>\n",
       "<style scoped>\n",
       "    .dataframe tbody tr th:only-of-type {\n",
       "        vertical-align: middle;\n",
       "    }\n",
       "\n",
       "    .dataframe tbody tr th {\n",
       "        vertical-align: top;\n",
       "    }\n",
       "\n",
       "    .dataframe thead th {\n",
       "        text-align: right;\n",
       "    }\n",
       "</style>\n",
       "<table border=\"1\" class=\"dataframe\">\n",
       "  <thead>\n",
       "    <tr style=\"text-align: right;\">\n",
       "      <th></th>\n",
       "      <th>Total_Stops</th>\n",
       "      <th>Price</th>\n",
       "      <th>Journey_Day</th>\n",
       "      <th>Journey_Month</th>\n",
       "      <th>Dep_Hour</th>\n",
       "      <th>Dep_Minute</th>\n",
       "      <th>Arrival_hour</th>\n",
       "      <th>Arrival_min</th>\n",
       "      <th>Duration_Hour</th>\n",
       "      <th>Duration_Minute</th>\n",
       "      <th>Airline_Air India</th>\n",
       "      <th>Airline_GoAir</th>\n",
       "      <th>Airline_IndiGo</th>\n",
       "      <th>Airline_Jet Airways</th>\n",
       "      <th>Airline_Jet Airways Business</th>\n",
       "      <th>Airline_Multiple carriers</th>\n",
       "      <th>Airline_Multiple carriers Premium economy</th>\n",
       "      <th>Airline_SpiceJet</th>\n",
       "      <th>Airline_Trujet</th>\n",
       "      <th>Airline_Vistara</th>\n",
       "      <th>Airline_Vistara Premium economy</th>\n",
       "      <th>Source_Chennai</th>\n",
       "      <th>Source_Delhi</th>\n",
       "      <th>Source_Kolkata</th>\n",
       "      <th>Source_Mumbai</th>\n",
       "      <th>Destination_Cochin</th>\n",
       "      <th>Destination_Delhi</th>\n",
       "      <th>Destination_Hyderabad</th>\n",
       "      <th>Destination_Kolkata</th>\n",
       "      <th>Destination_New Delhi</th>\n",
       "      <th>holiday_Non Holiday</th>\n",
       "      <th>day_Weekend</th>\n",
       "    </tr>\n",
       "  </thead>\n",
       "  <tbody>\n",
       "    <tr>\n",
       "      <th>0</th>\n",
       "      <td>0</td>\n",
       "      <td>3897</td>\n",
       "      <td>24</td>\n",
       "      <td>3</td>\n",
       "      <td>22</td>\n",
       "      <td>20</td>\n",
       "      <td>1</td>\n",
       "      <td>10</td>\n",
       "      <td>2</td>\n",
       "      <td>2</td>\n",
       "      <td>0</td>\n",
       "      <td>0</td>\n",
       "      <td>1</td>\n",
       "      <td>0</td>\n",
       "      <td>0</td>\n",
       "      <td>0</td>\n",
       "      <td>0</td>\n",
       "      <td>0</td>\n",
       "      <td>0</td>\n",
       "      <td>0</td>\n",
       "      <td>0</td>\n",
       "      <td>0</td>\n",
       "      <td>0</td>\n",
       "      <td>0</td>\n",
       "      <td>0</td>\n",
       "      <td>0</td>\n",
       "      <td>0</td>\n",
       "      <td>0</td>\n",
       "      <td>0</td>\n",
       "      <td>1</td>\n",
       "      <td>1</td>\n",
       "      <td>1</td>\n",
       "    </tr>\n",
       "    <tr>\n",
       "      <th>1</th>\n",
       "      <td>2</td>\n",
       "      <td>7662</td>\n",
       "      <td>1</td>\n",
       "      <td>5</td>\n",
       "      <td>5</td>\n",
       "      <td>50</td>\n",
       "      <td>13</td>\n",
       "      <td>15</td>\n",
       "      <td>7</td>\n",
       "      <td>7</td>\n",
       "      <td>1</td>\n",
       "      <td>0</td>\n",
       "      <td>0</td>\n",
       "      <td>0</td>\n",
       "      <td>0</td>\n",
       "      <td>0</td>\n",
       "      <td>0</td>\n",
       "      <td>0</td>\n",
       "      <td>0</td>\n",
       "      <td>0</td>\n",
       "      <td>0</td>\n",
       "      <td>0</td>\n",
       "      <td>0</td>\n",
       "      <td>1</td>\n",
       "      <td>0</td>\n",
       "      <td>0</td>\n",
       "      <td>0</td>\n",
       "      <td>0</td>\n",
       "      <td>0</td>\n",
       "      <td>0</td>\n",
       "      <td>1</td>\n",
       "      <td>0</td>\n",
       "    </tr>\n",
       "    <tr>\n",
       "      <th>2</th>\n",
       "      <td>2</td>\n",
       "      <td>13882</td>\n",
       "      <td>9</td>\n",
       "      <td>6</td>\n",
       "      <td>9</td>\n",
       "      <td>25</td>\n",
       "      <td>4</td>\n",
       "      <td>25</td>\n",
       "      <td>19</td>\n",
       "      <td>19</td>\n",
       "      <td>0</td>\n",
       "      <td>0</td>\n",
       "      <td>0</td>\n",
       "      <td>1</td>\n",
       "      <td>0</td>\n",
       "      <td>0</td>\n",
       "      <td>0</td>\n",
       "      <td>0</td>\n",
       "      <td>0</td>\n",
       "      <td>0</td>\n",
       "      <td>0</td>\n",
       "      <td>0</td>\n",
       "      <td>1</td>\n",
       "      <td>0</td>\n",
       "      <td>0</td>\n",
       "      <td>1</td>\n",
       "      <td>0</td>\n",
       "      <td>0</td>\n",
       "      <td>0</td>\n",
       "      <td>0</td>\n",
       "      <td>1</td>\n",
       "      <td>1</td>\n",
       "    </tr>\n",
       "    <tr>\n",
       "      <th>3</th>\n",
       "      <td>1</td>\n",
       "      <td>6218</td>\n",
       "      <td>12</td>\n",
       "      <td>5</td>\n",
       "      <td>18</td>\n",
       "      <td>5</td>\n",
       "      <td>23</td>\n",
       "      <td>30</td>\n",
       "      <td>5</td>\n",
       "      <td>5</td>\n",
       "      <td>0</td>\n",
       "      <td>0</td>\n",
       "      <td>1</td>\n",
       "      <td>0</td>\n",
       "      <td>0</td>\n",
       "      <td>0</td>\n",
       "      <td>0</td>\n",
       "      <td>0</td>\n",
       "      <td>0</td>\n",
       "      <td>0</td>\n",
       "      <td>0</td>\n",
       "      <td>0</td>\n",
       "      <td>0</td>\n",
       "      <td>1</td>\n",
       "      <td>0</td>\n",
       "      <td>0</td>\n",
       "      <td>0</td>\n",
       "      <td>0</td>\n",
       "      <td>0</td>\n",
       "      <td>0</td>\n",
       "      <td>1</td>\n",
       "      <td>1</td>\n",
       "    </tr>\n",
       "    <tr>\n",
       "      <th>4</th>\n",
       "      <td>1</td>\n",
       "      <td>13302</td>\n",
       "      <td>1</td>\n",
       "      <td>3</td>\n",
       "      <td>16</td>\n",
       "      <td>50</td>\n",
       "      <td>21</td>\n",
       "      <td>35</td>\n",
       "      <td>4</td>\n",
       "      <td>4</td>\n",
       "      <td>0</td>\n",
       "      <td>0</td>\n",
       "      <td>1</td>\n",
       "      <td>0</td>\n",
       "      <td>0</td>\n",
       "      <td>0</td>\n",
       "      <td>0</td>\n",
       "      <td>0</td>\n",
       "      <td>0</td>\n",
       "      <td>0</td>\n",
       "      <td>0</td>\n",
       "      <td>0</td>\n",
       "      <td>0</td>\n",
       "      <td>0</td>\n",
       "      <td>0</td>\n",
       "      <td>0</td>\n",
       "      <td>0</td>\n",
       "      <td>0</td>\n",
       "      <td>0</td>\n",
       "      <td>1</td>\n",
       "      <td>0</td>\n",
       "      <td>0</td>\n",
       "    </tr>\n",
       "  </tbody>\n",
       "</table>\n",
       "</div>"
      ],
      "text/plain": [
       "   Total_Stops  Price  Journey_Day  Journey_Month  Dep_Hour  Dep_Minute  \\\n",
       "0            0   3897           24              3        22          20   \n",
       "1            2   7662            1              5         5          50   \n",
       "2            2  13882            9              6         9          25   \n",
       "3            1   6218           12              5        18           5   \n",
       "4            1  13302            1              3        16          50   \n",
       "\n",
       "   Arrival_hour  Arrival_min  Duration_Hour  Duration_Minute  \\\n",
       "0             1           10              2                2   \n",
       "1            13           15              7                7   \n",
       "2             4           25             19               19   \n",
       "3            23           30              5                5   \n",
       "4            21           35              4                4   \n",
       "\n",
       "   Airline_Air India  Airline_GoAir  Airline_IndiGo  Airline_Jet Airways  \\\n",
       "0                  0              0               1                    0   \n",
       "1                  1              0               0                    0   \n",
       "2                  0              0               0                    1   \n",
       "3                  0              0               1                    0   \n",
       "4                  0              0               1                    0   \n",
       "\n",
       "   Airline_Jet Airways Business  Airline_Multiple carriers  \\\n",
       "0                             0                          0   \n",
       "1                             0                          0   \n",
       "2                             0                          0   \n",
       "3                             0                          0   \n",
       "4                             0                          0   \n",
       "\n",
       "   Airline_Multiple carriers Premium economy  Airline_SpiceJet  \\\n",
       "0                                          0                 0   \n",
       "1                                          0                 0   \n",
       "2                                          0                 0   \n",
       "3                                          0                 0   \n",
       "4                                          0                 0   \n",
       "\n",
       "   Airline_Trujet  Airline_Vistara  Airline_Vistara Premium economy  \\\n",
       "0               0                0                                0   \n",
       "1               0                0                                0   \n",
       "2               0                0                                0   \n",
       "3               0                0                                0   \n",
       "4               0                0                                0   \n",
       "\n",
       "   Source_Chennai  Source_Delhi  Source_Kolkata  Source_Mumbai  \\\n",
       "0               0             0               0              0   \n",
       "1               0             0               1              0   \n",
       "2               0             1               0              0   \n",
       "3               0             0               1              0   \n",
       "4               0             0               0              0   \n",
       "\n",
       "   Destination_Cochin  Destination_Delhi  Destination_Hyderabad  \\\n",
       "0                   0                  0                      0   \n",
       "1                   0                  0                      0   \n",
       "2                   1                  0                      0   \n",
       "3                   0                  0                      0   \n",
       "4                   0                  0                      0   \n",
       "\n",
       "   Destination_Kolkata  Destination_New Delhi  holiday_Non Holiday  \\\n",
       "0                    0                      1                    1   \n",
       "1                    0                      0                    1   \n",
       "2                    0                      0                    1   \n",
       "3                    0                      0                    1   \n",
       "4                    0                      1                    0   \n",
       "\n",
       "   day_Weekend  \n",
       "0            1  \n",
       "1            0  \n",
       "2            1  \n",
       "3            1  \n",
       "4            0  "
      ]
     },
     "execution_count": 81,
     "metadata": {},
     "output_type": "execute_result"
    }
   ],
   "source": [
    "df.head()"
   ]
  },
  {
   "cell_type": "code",
   "execution_count": 82,
   "id": "9ff47c26",
   "metadata": {},
   "outputs": [
    {
     "data": {
      "text/plain": [
       "(10681, 32)"
      ]
     },
     "execution_count": 82,
     "metadata": {},
     "output_type": "execute_result"
    }
   ],
   "source": [
    "df.shape"
   ]
  },
  {
   "cell_type": "code",
   "execution_count": 83,
   "id": "af7150d1",
   "metadata": {},
   "outputs": [
    {
     "data": {
      "text/plain": [
       "Total_Stops                                  int64\n",
       "Price                                        int64\n",
       "Journey_Day                                  int64\n",
       "Journey_Month                                int64\n",
       "Dep_Hour                                     int64\n",
       "Dep_Minute                                   int64\n",
       "Arrival_hour                                 int64\n",
       "Arrival_min                                  int64\n",
       "Duration_Hour                                int64\n",
       "Duration_Minute                              int64\n",
       "Airline_Air India                            uint8\n",
       "Airline_GoAir                                uint8\n",
       "Airline_IndiGo                               uint8\n",
       "Airline_Jet Airways                          uint8\n",
       "Airline_Jet Airways Business                 uint8\n",
       "Airline_Multiple carriers                    uint8\n",
       "Airline_Multiple carriers Premium economy    uint8\n",
       "Airline_SpiceJet                             uint8\n",
       "Airline_Trujet                               uint8\n",
       "Airline_Vistara                              uint8\n",
       "Airline_Vistara Premium economy              uint8\n",
       "Source_Chennai                               uint8\n",
       "Source_Delhi                                 uint8\n",
       "Source_Kolkata                               uint8\n",
       "Source_Mumbai                                uint8\n",
       "Destination_Cochin                           uint8\n",
       "Destination_Delhi                            uint8\n",
       "Destination_Hyderabad                        uint8\n",
       "Destination_Kolkata                          uint8\n",
       "Destination_New Delhi                        uint8\n",
       "holiday_Non Holiday                          uint8\n",
       "day_Weekend                                  uint8\n",
       "dtype: object"
      ]
     },
     "execution_count": 83,
     "metadata": {},
     "output_type": "execute_result"
    }
   ],
   "source": [
    "df.dtypes"
   ]
  },
  {
   "cell_type": "code",
   "execution_count": 84,
   "id": "4bd46704",
   "metadata": {},
   "outputs": [
    {
     "data": {
      "text/plain": [
       "Index(['Total_Stops', 'Price', 'Journey_Day', 'Journey_Month', 'Dep_Hour',\n",
       "       'Dep_Minute', 'Arrival_hour', 'Arrival_min', 'Duration_Hour',\n",
       "       'Duration_Minute', 'Airline_Air India', 'Airline_GoAir',\n",
       "       'Airline_IndiGo', 'Airline_Jet Airways', 'Airline_Jet Airways Business',\n",
       "       'Airline_Multiple carriers',\n",
       "       'Airline_Multiple carriers Premium economy', 'Airline_SpiceJet',\n",
       "       'Airline_Trujet', 'Airline_Vistara', 'Airline_Vistara Premium economy',\n",
       "       'Source_Chennai', 'Source_Delhi', 'Source_Kolkata', 'Source_Mumbai',\n",
       "       'Destination_Cochin', 'Destination_Delhi', 'Destination_Hyderabad',\n",
       "       'Destination_Kolkata', 'Destination_New Delhi', 'holiday_Non Holiday',\n",
       "       'day_Weekend'],\n",
       "      dtype='object')"
      ]
     },
     "execution_count": 84,
     "metadata": {},
     "output_type": "execute_result"
    }
   ],
   "source": [
    "# feature part\n",
    "df.columns"
   ]
  },
  {
   "cell_type": "code",
   "execution_count": 85,
   "id": "cbf3851a",
   "metadata": {},
   "outputs": [
    {
     "data": {
      "text/html": [
       "<div>\n",
       "<style scoped>\n",
       "    .dataframe tbody tr th:only-of-type {\n",
       "        vertical-align: middle;\n",
       "    }\n",
       "\n",
       "    .dataframe tbody tr th {\n",
       "        vertical-align: top;\n",
       "    }\n",
       "\n",
       "    .dataframe thead th {\n",
       "        text-align: right;\n",
       "    }\n",
       "</style>\n",
       "<table border=\"1\" class=\"dataframe\">\n",
       "  <thead>\n",
       "    <tr style=\"text-align: right;\">\n",
       "      <th></th>\n",
       "      <th>Total_Stops</th>\n",
       "      <th>Journey_Day</th>\n",
       "      <th>Journey_Month</th>\n",
       "      <th>Dep_Hour</th>\n",
       "      <th>Dep_Minute</th>\n",
       "      <th>Arrival_hour</th>\n",
       "      <th>Arrival_min</th>\n",
       "      <th>Duration_Hour</th>\n",
       "      <th>Duration_Minute</th>\n",
       "      <th>Airline_Air India</th>\n",
       "      <th>Airline_GoAir</th>\n",
       "      <th>Airline_IndiGo</th>\n",
       "      <th>Airline_Jet Airways</th>\n",
       "      <th>Airline_Multiple carriers</th>\n",
       "      <th>Airline_SpiceJet</th>\n",
       "      <th>Airline_Vistara</th>\n",
       "      <th>Source_Chennai</th>\n",
       "      <th>Source_Delhi</th>\n",
       "      <th>Source_Kolkata</th>\n",
       "      <th>Source_Mumbai</th>\n",
       "      <th>Destination_Cochin</th>\n",
       "      <th>Destination_Delhi</th>\n",
       "      <th>Destination_Hyderabad</th>\n",
       "      <th>Destination_Kolkata</th>\n",
       "      <th>holiday_Non Holiday</th>\n",
       "      <th>day_Weekend</th>\n",
       "    </tr>\n",
       "  </thead>\n",
       "  <tbody>\n",
       "    <tr>\n",
       "      <th>0</th>\n",
       "      <td>0</td>\n",
       "      <td>24</td>\n",
       "      <td>3</td>\n",
       "      <td>22</td>\n",
       "      <td>20</td>\n",
       "      <td>1</td>\n",
       "      <td>10</td>\n",
       "      <td>2</td>\n",
       "      <td>2</td>\n",
       "      <td>0</td>\n",
       "      <td>0</td>\n",
       "      <td>1</td>\n",
       "      <td>0</td>\n",
       "      <td>0</td>\n",
       "      <td>0</td>\n",
       "      <td>0</td>\n",
       "      <td>0</td>\n",
       "      <td>0</td>\n",
       "      <td>0</td>\n",
       "      <td>0</td>\n",
       "      <td>0</td>\n",
       "      <td>0</td>\n",
       "      <td>0</td>\n",
       "      <td>0</td>\n",
       "      <td>1</td>\n",
       "      <td>1</td>\n",
       "    </tr>\n",
       "    <tr>\n",
       "      <th>1</th>\n",
       "      <td>2</td>\n",
       "      <td>1</td>\n",
       "      <td>5</td>\n",
       "      <td>5</td>\n",
       "      <td>50</td>\n",
       "      <td>13</td>\n",
       "      <td>15</td>\n",
       "      <td>7</td>\n",
       "      <td>7</td>\n",
       "      <td>1</td>\n",
       "      <td>0</td>\n",
       "      <td>0</td>\n",
       "      <td>0</td>\n",
       "      <td>0</td>\n",
       "      <td>0</td>\n",
       "      <td>0</td>\n",
       "      <td>0</td>\n",
       "      <td>0</td>\n",
       "      <td>1</td>\n",
       "      <td>0</td>\n",
       "      <td>0</td>\n",
       "      <td>0</td>\n",
       "      <td>0</td>\n",
       "      <td>0</td>\n",
       "      <td>1</td>\n",
       "      <td>0</td>\n",
       "    </tr>\n",
       "    <tr>\n",
       "      <th>2</th>\n",
       "      <td>2</td>\n",
       "      <td>9</td>\n",
       "      <td>6</td>\n",
       "      <td>9</td>\n",
       "      <td>25</td>\n",
       "      <td>4</td>\n",
       "      <td>25</td>\n",
       "      <td>19</td>\n",
       "      <td>19</td>\n",
       "      <td>0</td>\n",
       "      <td>0</td>\n",
       "      <td>0</td>\n",
       "      <td>1</td>\n",
       "      <td>0</td>\n",
       "      <td>0</td>\n",
       "      <td>0</td>\n",
       "      <td>0</td>\n",
       "      <td>1</td>\n",
       "      <td>0</td>\n",
       "      <td>0</td>\n",
       "      <td>1</td>\n",
       "      <td>0</td>\n",
       "      <td>0</td>\n",
       "      <td>0</td>\n",
       "      <td>1</td>\n",
       "      <td>1</td>\n",
       "    </tr>\n",
       "    <tr>\n",
       "      <th>3</th>\n",
       "      <td>1</td>\n",
       "      <td>12</td>\n",
       "      <td>5</td>\n",
       "      <td>18</td>\n",
       "      <td>5</td>\n",
       "      <td>23</td>\n",
       "      <td>30</td>\n",
       "      <td>5</td>\n",
       "      <td>5</td>\n",
       "      <td>0</td>\n",
       "      <td>0</td>\n",
       "      <td>1</td>\n",
       "      <td>0</td>\n",
       "      <td>0</td>\n",
       "      <td>0</td>\n",
       "      <td>0</td>\n",
       "      <td>0</td>\n",
       "      <td>0</td>\n",
       "      <td>1</td>\n",
       "      <td>0</td>\n",
       "      <td>0</td>\n",
       "      <td>0</td>\n",
       "      <td>0</td>\n",
       "      <td>0</td>\n",
       "      <td>1</td>\n",
       "      <td>1</td>\n",
       "    </tr>\n",
       "    <tr>\n",
       "      <th>4</th>\n",
       "      <td>1</td>\n",
       "      <td>1</td>\n",
       "      <td>3</td>\n",
       "      <td>16</td>\n",
       "      <td>50</td>\n",
       "      <td>21</td>\n",
       "      <td>35</td>\n",
       "      <td>4</td>\n",
       "      <td>4</td>\n",
       "      <td>0</td>\n",
       "      <td>0</td>\n",
       "      <td>1</td>\n",
       "      <td>0</td>\n",
       "      <td>0</td>\n",
       "      <td>0</td>\n",
       "      <td>0</td>\n",
       "      <td>0</td>\n",
       "      <td>0</td>\n",
       "      <td>0</td>\n",
       "      <td>0</td>\n",
       "      <td>0</td>\n",
       "      <td>0</td>\n",
       "      <td>0</td>\n",
       "      <td>0</td>\n",
       "      <td>0</td>\n",
       "      <td>0</td>\n",
       "    </tr>\n",
       "  </tbody>\n",
       "</table>\n",
       "</div>"
      ],
      "text/plain": [
       "   Total_Stops  Journey_Day  Journey_Month  Dep_Hour  Dep_Minute  \\\n",
       "0            0           24              3        22          20   \n",
       "1            2            1              5         5          50   \n",
       "2            2            9              6         9          25   \n",
       "3            1           12              5        18           5   \n",
       "4            1            1              3        16          50   \n",
       "\n",
       "   Arrival_hour  Arrival_min  Duration_Hour  Duration_Minute  \\\n",
       "0             1           10              2                2   \n",
       "1            13           15              7                7   \n",
       "2             4           25             19               19   \n",
       "3            23           30              5                5   \n",
       "4            21           35              4                4   \n",
       "\n",
       "   Airline_Air India  Airline_GoAir  Airline_IndiGo  Airline_Jet Airways  \\\n",
       "0                  0              0               1                    0   \n",
       "1                  1              0               0                    0   \n",
       "2                  0              0               0                    1   \n",
       "3                  0              0               1                    0   \n",
       "4                  0              0               1                    0   \n",
       "\n",
       "   Airline_Multiple carriers  Airline_SpiceJet  Airline_Vistara  \\\n",
       "0                          0                 0                0   \n",
       "1                          0                 0                0   \n",
       "2                          0                 0                0   \n",
       "3                          0                 0                0   \n",
       "4                          0                 0                0   \n",
       "\n",
       "   Source_Chennai  Source_Delhi  Source_Kolkata  Source_Mumbai  \\\n",
       "0               0             0               0              0   \n",
       "1               0             0               1              0   \n",
       "2               0             1               0              0   \n",
       "3               0             0               1              0   \n",
       "4               0             0               0              0   \n",
       "\n",
       "   Destination_Cochin  Destination_Delhi  Destination_Hyderabad  \\\n",
       "0                   0                  0                      0   \n",
       "1                   0                  0                      0   \n",
       "2                   1                  0                      0   \n",
       "3                   0                  0                      0   \n",
       "4                   0                  0                      0   \n",
       "\n",
       "   Destination_Kolkata  holiday_Non Holiday  day_Weekend  \n",
       "0                    0                    1            1  \n",
       "1                    0                    1            0  \n",
       "2                    0                    1            1  \n",
       "3                    0                    1            1  \n",
       "4                    0                    0            0  "
      ]
     },
     "execution_count": 85,
     "metadata": {},
     "output_type": "execute_result"
    }
   ],
   "source": [
    "X = df.loc[:,['Total_Stops', 'Journey_Day', 'Journey_Month', 'Dep_Hour',\n",
    "       'Dep_Minute', 'Arrival_hour', 'Arrival_min', 'Duration_Hour',\n",
    "       'Duration_Minute', 'Airline_Air India', 'Airline_GoAir',\n",
    "       'Airline_IndiGo', 'Airline_Jet Airways',\n",
    "       'Airline_Multiple carriers',\n",
    "        'Airline_SpiceJet', 'Airline_Vistara', 'Source_Chennai', 'Source_Delhi', \n",
    "        'Source_Kolkata', 'Source_Mumbai',\n",
    "       'Destination_Cochin', 'Destination_Delhi', 'Destination_Hyderabad',\n",
    "       'Destination_Kolkata', 'holiday_Non Holiday','day_Weekend']]\n",
    "X.head()"
   ]
  },
  {
   "cell_type": "code",
   "execution_count": 86,
   "id": "78476d52",
   "metadata": {},
   "outputs": [
    {
     "data": {
      "text/plain": [
       "0     3897\n",
       "1     7662\n",
       "2    13882\n",
       "3     6218\n",
       "4    13302\n",
       "Name: Price, dtype: int64"
      ]
     },
     "execution_count": 86,
     "metadata": {},
     "output_type": "execute_result"
    }
   ],
   "source": [
    "y = df.iloc[:, 1]\n",
    "y.head()"
   ]
  },
  {
   "cell_type": "code",
   "execution_count": 87,
   "id": "4866debf",
   "metadata": {},
   "outputs": [
    {
     "data": {
      "text/plain": [
       "0"
      ]
     },
     "execution_count": 87,
     "metadata": {},
     "output_type": "execute_result"
    }
   ],
   "source": [
    "y.isnull().sum()"
   ]
  },
  {
   "cell_type": "code",
   "execution_count": 88,
   "id": "7a09d923",
   "metadata": {},
   "outputs": [
    {
     "data": {
      "text/plain": [
       "0"
      ]
     },
     "execution_count": 88,
     "metadata": {},
     "output_type": "execute_result"
    }
   ],
   "source": [
    "y.isnull().sum()"
   ]
  },
  {
   "cell_type": "code",
   "execution_count": 89,
   "id": "8553c0d3",
   "metadata": {},
   "outputs": [
    {
     "data": {
      "text/plain": [
       "Total_Stops                  0\n",
       "Journey_Day                  0\n",
       "Journey_Month                0\n",
       "Dep_Hour                     0\n",
       "Dep_Minute                   0\n",
       "Arrival_hour                 0\n",
       "Arrival_min                  0\n",
       "Duration_Hour                0\n",
       "Duration_Minute              0\n",
       "Airline_Air India            0\n",
       "Airline_GoAir                0\n",
       "Airline_IndiGo               0\n",
       "Airline_Jet Airways          0\n",
       "Airline_Multiple carriers    0\n",
       "Airline_SpiceJet             0\n",
       "Airline_Vistara              0\n",
       "Source_Chennai               0\n",
       "Source_Delhi                 0\n",
       "Source_Kolkata               0\n",
       "Source_Mumbai                0\n",
       "Destination_Cochin           0\n",
       "Destination_Delhi            0\n",
       "Destination_Hyderabad        0\n",
       "Destination_Kolkata          0\n",
       "holiday_Non Holiday          0\n",
       "day_Weekend                  0\n",
       "dtype: int64"
      ]
     },
     "execution_count": 89,
     "metadata": {},
     "output_type": "execute_result"
    }
   ],
   "source": [
    "X.isnull().sum()"
   ]
  },
  {
   "cell_type": "code",
   "execution_count": 90,
   "id": "d2c9164e",
   "metadata": {},
   "outputs": [
    {
     "data": {
      "image/png": "[encoded data removed]",
      "text/plain": [
       "<Figure size 1296x1296 with 2 Axes>"
      ]
     },
     "metadata": {},
     "output_type": "display_data"
    }
   ],
   "source": [
    "# Finds correlation between Independent and dependent attributes\n",
    "\n",
    "plt.figure(figsize = (18,18))\n",
    "sns.heatmap(df.corr(), annot = True, cmap = \"RdYlGn\")\n",
    "\n",
    "plt.show()"
   ]
  },
  {
   "cell_type": "code",
   "execution_count": 91,
   "id": "e0cfd2b1",
   "metadata": {},
   "outputs": [
    {
     "data": {
      "text/plain": [
       "ExtraTreesRegressor()"
      ]
     },
     "execution_count": 91,
     "metadata": {},
     "output_type": "execute_result"
    }
   ],
   "source": [
    "# Important feature using ExtraTreesRegressor(XG Boost)\n",
    "\n",
    "from sklearn.ensemble import ExtraTreesRegressor\n",
    "selection = ExtraTreesRegressor()\n",
    "selection.fit(X, y)"
   ]
  },
  {
   "cell_type": "code",
   "execution_count": 92,
   "id": "7898760e",
   "metadata": {},
   "outputs": [
    {
     "name": "stdout",
     "output_type": "stream",
     "text": [
      "[0.17594509 0.09511004 0.06418972 0.03160226 0.02923322 0.03669801\n",
      " 0.0250676  0.10785547 0.1051229  0.01902588 0.003351   0.02506157\n",
      " 0.13100821 0.01619137 0.0056705  0.00490094 0.0010548  0.01284431\n",
      " 0.013996   0.00649939 0.01519232 0.01270337 0.00397919 0.00104803\n",
      " 0.04765515 0.00899366]\n"
     ]
    }
   ],
   "source": [
    "# decision tree concept having selection purpose.\n",
    "print(selection.feature_importances_)"
   ]
  },
  {
   "cell_type": "code",
   "execution_count": 93,
   "id": "eca177da",
   "metadata": {},
   "outputs": [
    {
     "data": {
      "image/png": "[encoded data removed]",
      "text/plain": [
       "<Figure size 864x576 with 1 Axes>"
      ]
     },
     "metadata": {},
     "output_type": "display_data"
    }
   ],
   "source": [
    "#plot graph of feature importances for better visualization\n",
    "\n",
    "plt.figure(figsize = (12,8))\n",
    "feat_importances = pd.Series(selection.feature_importances_, index=X.columns)\n",
    "feat_importances.nlargest(20).plot(kind='barh')\n",
    "plt.show()"
   ]
  },
  {
   "cell_type": "code",
   "execution_count": 94,
   "id": "3c117569",
   "metadata": {},
   "outputs": [],
   "source": [
    "#  Fitting model using Random Forest\n",
    "\n",
    "from sklearn.model_selection import train_test_split\n",
    "X_train, X_test, y_train, y_test = train_test_split(X, y, test_size = 0.2, random_state = 42)"
   ]
  },
  {
   "cell_type": "code",
   "execution_count": 95,
   "id": "402f9643",
   "metadata": {},
   "outputs": [
    {
     "data": {
      "text/plain": [
       "RandomForestRegressor()"
      ]
     },
     "execution_count": 95,
     "metadata": {},
     "output_type": "execute_result"
    }
   ],
   "source": [
    "from sklearn.ensemble import RandomForestRegressor\n",
    "reg_rf = RandomForestRegressor()\n",
    "reg_rf.fit(X_train, y_train)"
   ]
  },
  {
   "cell_type": "code",
   "execution_count": 96,
   "id": "eb3cfa53",
   "metadata": {},
   "outputs": [],
   "source": [
    "y_pred = reg_rf.predict(X_test)"
   ]
  },
  {
   "cell_type": "code",
   "execution_count": 97,
   "id": "8ba88a4f",
   "metadata": {},
   "outputs": [
    {
     "data": {
      "text/plain": [
       "0.9501783168358157"
      ]
     },
     "execution_count": 97,
     "metadata": {},
     "output_type": "execute_result"
    }
   ],
   "source": [
    "reg_rf.score(X_train, y_train)"
   ]
  },
  {
   "cell_type": "code",
   "execution_count": 98,
   "id": "f7628ad8",
   "metadata": {},
   "outputs": [
    {
     "data": {
      "text/plain": [
       "0.7936821794040294"
      ]
     },
     "execution_count": 98,
     "metadata": {},
     "output_type": "execute_result"
    }
   ],
   "source": [
    "reg_rf.score(X_test, y_test)"
   ]
  },
  {
   "cell_type": "code",
   "execution_count": 99,
   "id": "f861212c",
   "metadata": {},
   "outputs": [
    {
     "name": "stderr",
     "output_type": "stream",
     "text": [
      "C:\\Users\\HP\\anaconda3\\lib\\site-packages\\seaborn\\distributions.py:2619: FutureWarning: `distplot` is a deprecated function and will be removed in a future version. Please adapt your code to use either `displot` (a figure-level function with similar flexibility) or `histplot` (an axes-level function for histograms).\n",
      "  warnings.warn(msg, FutureWarning)\n"
     ]
    },
    {
     "data": {
      "image/png": "[encoded data removed]",
      "text/plain": [
       "<Figure size 432x288 with 1 Axes>"
      ]
     },
     "metadata": {},
     "output_type": "display_data"
    }
   ],
   "source": [
    "sns.distplot(y_test-y_pred)\n",
    "plt.show()"
   ]
  },
  {
   "cell_type": "code",
   "execution_count": 100,
   "id": "a8db690e",
   "metadata": {},
   "outputs": [
    {
     "data": {
      "image/png": "[encoded data removed]",
      "text/plain": [
       "<Figure size 432x288 with 1 Axes>"
      ]
     },
     "metadata": {},
     "output_type": "display_data"
    }
   ],
   "source": [
    "plt.scatter(y_test, y_pred, alpha = 0.5)\n",
    "plt.xlabel(\"y_test\")\n",
    "plt.ylabel(\"y_pred\")\n",
    "plt.show()"
   ]
  },
  {
   "cell_type": "code",
   "execution_count": 101,
   "id": "7a5bfdd6",
   "metadata": {},
   "outputs": [],
   "source": [
    "from sklearn import metrics"
   ]
  },
  {
   "cell_type": "code",
   "execution_count": 102,
   "id": "acf4d7c3",
   "metadata": {},
   "outputs": [
    {
     "name": "stdout",
     "output_type": "stream",
     "text": [
      "MAE: 1140.1689149467882\n",
      "MSE: 4355732.516483804\n",
      "RMSE: 2087.0391746404293\n"
     ]
    }
   ],
   "source": [
    "print('MAE:', metrics.mean_absolute_error(y_test, y_pred))\n",
    "print('MSE:', metrics.mean_squared_error(y_test, y_pred))\n",
    "print('RMSE:', np.sqrt(metrics.mean_squared_error(y_test, y_pred)))"
   ]
  },
  {
   "cell_type": "code",
   "execution_count": 103,
   "id": "f2074161",
   "metadata": {},
   "outputs": [
    {
     "data": {
      "text/plain": [
       "0.7936821794040294"
      ]
     },
     "execution_count": 103,
     "metadata": {},
     "output_type": "execute_result"
    }
   ],
   "source": [
    "metrics.r2_score(y_test, y_pred)"
   ]
  },
  {
   "cell_type": "code",
   "execution_count": 104,
   "id": "ed67f3eb",
   "metadata": {},
   "outputs": [],
   "source": [
    "#Hyperparameter Tuning\n",
    "#Choose following method for hyperparameter tuning\n",
    "#RandomizedSearchCV --> Fast\n",
    "#GridSearchCV\n",
    "\n",
    "\n",
    "from sklearn.model_selection import RandomizedSearchCV"
   ]
  },
  {
   "cell_type": "code",
   "execution_count": 105,
   "id": "f34796be",
   "metadata": {},
   "outputs": [],
   "source": [
    "#Randomized Search CV\n",
    "\n",
    "# Number of trees in random forest\n",
    "n_estimators = [int(x) for x in np.linspace(start = 100, stop = 1200, num = 12)]\n",
    "# Number of features to consider at every split\n",
    "max_features = ['auto', 'sqrt']\n",
    "# Maximum number of levels in tree\n",
    "max_depth = [int(x) for x in np.linspace(5, 30, num = 6)]\n",
    "# Minimum number of samples required to split a node\n",
    "min_samples_split = [2, 5, 10, 15, 100]\n",
    "# Minimum number of samples required at each leaf node\n",
    "min_samples_leaf = [1, 2, 5, 10]"
   ]
  },
  {
   "cell_type": "code",
   "execution_count": 106,
   "id": "2dee4209",
   "metadata": {},
   "outputs": [],
   "source": [
    "# Create the random grid\n",
    "\n",
    "random_grid = {'n_estimators': n_estimators,\n",
    "               'max_features': max_features,\n",
    "               'max_depth': max_depth,\n",
    "               'min_samples_split': min_samples_split,\n",
    "               'min_samples_leaf': min_samples_leaf}"
   ]
  },
  {
   "cell_type": "code",
   "execution_count": 107,
   "id": "82fc4609",
   "metadata": {},
   "outputs": [],
   "source": [
    "# Random search of parameters, using 5 fold cross validation, \n",
    "# search across 100 different combinations\n",
    "rf_random = RandomizedSearchCV(estimator = reg_rf, param_distributions = random_grid,scoring='neg_mean_squared_error', n_iter = 10, cv = 5, verbose=2, random_state=42, n_jobs = 1)"
   ]
  },
  {
   "cell_type": "code",
   "execution_count": 108,
   "id": "5d56a753",
   "metadata": {},
   "outputs": [
    {
     "name": "stdout",
     "output_type": "stream",
     "text": [
      "Fitting 5 folds for each of 10 candidates, totalling 50 fits\n",
      "[CV] END max_depth=10, max_features=sqrt, min_samples_leaf=5, min_samples_split=5, n_estimators=900; total time=   9.8s\n",
      "[CV] END max_depth=10, max_features=sqrt, min_samples_leaf=5, min_samples_split=5, n_estimators=900; total time=   8.6s\n",
      "[CV] END max_depth=10, max_features=sqrt, min_samples_leaf=5, min_samples_split=5, n_estimators=900; total time=   8.5s\n",
      "[CV] END max_depth=10, max_features=sqrt, min_samples_leaf=5, min_samples_split=5, n_estimators=900; total time=   8.6s\n",
      "[CV] END max_depth=10, max_features=sqrt, min_samples_leaf=5, min_samples_split=5, n_estimators=900; total time=   7.9s\n",
      "[CV] END max_depth=15, max_features=sqrt, min_samples_leaf=2, min_samples_split=10, n_estimators=1100; total time=  11.1s\n",
      "[CV] END max_depth=15, max_features=sqrt, min_samples_leaf=2, min_samples_split=10, n_estimators=1100; total time=  12.5s\n",
      "[CV] END max_depth=15, max_features=sqrt, min_samples_leaf=2, min_samples_split=10, n_estimators=1100; total time=  11.9s\n",
      "[CV] END max_depth=15, max_features=sqrt, min_samples_leaf=2, min_samples_split=10, n_estimators=1100; total time=  13.4s\n",
      "[CV] END max_depth=15, max_features=sqrt, min_samples_leaf=2, min_samples_split=10, n_estimators=1100; total time=  12.6s\n",
      "[CV] END max_depth=15, max_features=auto, min_samples_leaf=5, min_samples_split=100, n_estimators=300; total time=   7.2s\n",
      "[CV] END max_depth=15, max_features=auto, min_samples_leaf=5, min_samples_split=100, n_estimators=300; total time=   6.1s\n",
      "[CV] END max_depth=15, max_features=auto, min_samples_leaf=5, min_samples_split=100, n_estimators=300; total time=   5.6s\n",
      "[CV] END max_depth=15, max_features=auto, min_samples_leaf=5, min_samples_split=100, n_estimators=300; total time=   5.3s\n",
      "[CV] END max_depth=15, max_features=auto, min_samples_leaf=5, min_samples_split=100, n_estimators=300; total time=   5.4s\n",
      "[CV] END max_depth=15, max_features=auto, min_samples_leaf=5, min_samples_split=5, n_estimators=400; total time=   9.5s\n",
      "[CV] END max_depth=15, max_features=auto, min_samples_leaf=5, min_samples_split=5, n_estimators=400; total time=   9.8s\n",
      "[CV] END max_depth=15, max_features=auto, min_samples_leaf=5, min_samples_split=5, n_estimators=400; total time=   9.0s\n",
      "[CV] END max_depth=15, max_features=auto, min_samples_leaf=5, min_samples_split=5, n_estimators=400; total time=  11.5s\n",
      "[CV] END max_depth=15, max_features=auto, min_samples_leaf=5, min_samples_split=5, n_estimators=400; total time=   9.8s\n",
      "[CV] END max_depth=20, max_features=auto, min_samples_leaf=10, min_samples_split=5, n_estimators=700; total time=  15.5s\n",
      "[CV] END max_depth=20, max_features=auto, min_samples_leaf=10, min_samples_split=5, n_estimators=700; total time=  14.8s\n",
      "[CV] END max_depth=20, max_features=auto, min_samples_leaf=10, min_samples_split=5, n_estimators=700; total time=  14.5s\n",
      "[CV] END max_depth=20, max_features=auto, min_samples_leaf=10, min_samples_split=5, n_estimators=700; total time=  15.0s\n",
      "[CV] END max_depth=20, max_features=auto, min_samples_leaf=10, min_samples_split=5, n_estimators=700; total time=  15.0s\n",
      "[CV] END max_depth=25, max_features=sqrt, min_samples_leaf=1, min_samples_split=2, n_estimators=1000; total time=  13.9s\n",
      "[CV] END max_depth=25, max_features=sqrt, min_samples_leaf=1, min_samples_split=2, n_estimators=1000; total time=  16.6s\n",
      "[CV] END max_depth=25, max_features=sqrt, min_samples_leaf=1, min_samples_split=2, n_estimators=1000; total time=  14.1s\n",
      "[CV] END max_depth=25, max_features=sqrt, min_samples_leaf=1, min_samples_split=2, n_estimators=1000; total time=  13.9s\n",
      "[CV] END max_depth=25, max_features=sqrt, min_samples_leaf=1, min_samples_split=2, n_estimators=1000; total time=  13.3s\n",
      "[CV] END max_depth=5, max_features=sqrt, min_samples_leaf=10, min_samples_split=15, n_estimators=1100; total time=   5.2s\n",
      "[CV] END max_depth=5, max_features=sqrt, min_samples_leaf=10, min_samples_split=15, n_estimators=1100; total time=   4.9s\n",
      "[CV] END max_depth=5, max_features=sqrt, min_samples_leaf=10, min_samples_split=15, n_estimators=1100; total time=   4.7s\n",
      "[CV] END max_depth=5, max_features=sqrt, min_samples_leaf=10, min_samples_split=15, n_estimators=1100; total time=   5.1s\n",
      "[CV] END max_depth=5, max_features=sqrt, min_samples_leaf=10, min_samples_split=15, n_estimators=1100; total time=   4.7s\n",
      "[CV] END max_depth=15, max_features=sqrt, min_samples_leaf=1, min_samples_split=15, n_estimators=300; total time=   2.5s\n",
      "[CV] END max_depth=15, max_features=sqrt, min_samples_leaf=1, min_samples_split=15, n_estimators=300; total time=   2.3s\n",
      "[CV] END max_depth=15, max_features=sqrt, min_samples_leaf=1, min_samples_split=15, n_estimators=300; total time=   2.2s\n",
      "[CV] END max_depth=15, max_features=sqrt, min_samples_leaf=1, min_samples_split=15, n_estimators=300; total time=   2.4s\n",
      "[CV] END max_depth=15, max_features=sqrt, min_samples_leaf=1, min_samples_split=15, n_estimators=300; total time=   2.5s\n",
      "[CV] END max_depth=5, max_features=sqrt, min_samples_leaf=2, min_samples_split=10, n_estimators=700; total time=   2.8s\n",
      "[CV] END max_depth=5, max_features=sqrt, min_samples_leaf=2, min_samples_split=10, n_estimators=700; total time=   3.1s\n",
      "[CV] END max_depth=5, max_features=sqrt, min_samples_leaf=2, min_samples_split=10, n_estimators=700; total time=   3.2s\n",
      "[CV] END max_depth=5, max_features=sqrt, min_samples_leaf=2, min_samples_split=10, n_estimators=700; total time=   3.2s\n",
      "[CV] END max_depth=5, max_features=sqrt, min_samples_leaf=2, min_samples_split=10, n_estimators=700; total time=   3.0s\n",
      "[CV] END max_depth=20, max_features=auto, min_samples_leaf=1, min_samples_split=15, n_estimators=700; total time=  16.2s\n",
      "[CV] END max_depth=20, max_features=auto, min_samples_leaf=1, min_samples_split=15, n_estimators=700; total time=  17.6s\n",
      "[CV] END max_depth=20, max_features=auto, min_samples_leaf=1, min_samples_split=15, n_estimators=700; total time=  17.1s\n",
      "[CV] END max_depth=20, max_features=auto, min_samples_leaf=1, min_samples_split=15, n_estimators=700; total time=  17.3s\n",
      "[CV] END max_depth=20, max_features=auto, min_samples_leaf=1, min_samples_split=15, n_estimators=700; total time=  17.1s\n"
     ]
    },
    {
     "data": {
      "text/plain": [
       "RandomizedSearchCV(cv=5, estimator=RandomForestRegressor(), n_jobs=1,\n",
       "                   param_distributions={'max_depth': [5, 10, 15, 20, 25, 30],\n",
       "                                        'max_features': ['auto', 'sqrt'],\n",
       "                                        'min_samples_leaf': [1, 2, 5, 10],\n",
       "                                        'min_samples_split': [2, 5, 10, 15,\n",
       "                                                              100],\n",
       "                                        'n_estimators': [100, 200, 300, 400,\n",
       "                                                         500, 600, 700, 800,\n",
       "                                                         900, 1000, 1100,\n",
       "                                                         1200]},\n",
       "                   random_state=42, scoring='neg_mean_squared_error',\n",
       "                   verbose=2)"
      ]
     },
     "execution_count": 108,
     "metadata": {},
     "output_type": "execute_result"
    }
   ],
   "source": [
    "rf_random.fit(X_train,y_train)"
   ]
  },
  {
   "cell_type": "code",
   "execution_count": 109,
   "id": "f213af7e",
   "metadata": {},
   "outputs": [
    {
     "data": {
      "text/plain": [
       "{'n_estimators': 700,\n",
       " 'min_samples_split': 15,\n",
       " 'min_samples_leaf': 1,\n",
       " 'max_features': 'auto',\n",
       " 'max_depth': 20}"
      ]
     },
     "execution_count": 109,
     "metadata": {},
     "output_type": "execute_result"
    }
   ],
   "source": [
    "rf_random.best_params_"
   ]
  },
  {
   "cell_type": "code",
   "execution_count": 110,
   "id": "74e9d69d",
   "metadata": {},
   "outputs": [],
   "source": [
    "prediction = rf_random.predict(X_test)"
   ]
  },
  {
   "cell_type": "code",
   "execution_count": 111,
   "id": "1c028a7b",
   "metadata": {},
   "outputs": [
    {
     "name": "stderr",
     "output_type": "stream",
     "text": [
      "C:\\Users\\HP\\anaconda3\\lib\\site-packages\\seaborn\\distributions.py:2619: FutureWarning: `distplot` is a deprecated function and will be removed in a future version. Please adapt your code to use either `displot` (a figure-level function with similar flexibility) or `histplot` (an axes-level function for histograms).\n",
      "  warnings.warn(msg, FutureWarning)\n"
     ]
    },
    {
     "data": {
      "image/png": "[encoded data removed]",
      "text/plain": [
       "<Figure size 576x576 with 1 Axes>"
      ]
     },
     "metadata": {},
     "output_type": "display_data"
    }
   ],
   "source": [
    "plt.figure(figsize = (8,8))\n",
    "sns.distplot(y_test-prediction)\n",
    "plt.show()"
   ]
  },
  {
   "cell_type": "code",
   "execution_count": 112,
   "id": "0f53b460",
   "metadata": {},
   "outputs": [
    {
     "data": {
      "image/png": "[encoded data removed]",
      "text/plain": [
       "<Figure size 576x576 with 1 Axes>"
      ]
     },
     "metadata": {},
     "output_type": "display_data"
    }
   ],
   "source": [
    "plt.figure(figsize = (8,8))\n",
    "plt.scatter(y_test, prediction, alpha = 0.5)\n",
    "plt.xlabel(\"y_test\")\n",
    "plt.ylabel(\"y_pred\")\n",
    "plt.show()"
   ]
  },
  {
   "cell_type": "code",
   "execution_count": 113,
   "id": "294bf2a4",
   "metadata": {},
   "outputs": [
    {
     "name": "stdout",
     "output_type": "stream",
     "text": [
      "MAE: 1121.2318651272942\n",
      "MSE: 4034522.369005813\n",
      "RMSE: 2008.6120503984368\n"
     ]
    }
   ],
   "source": [
    "print('MAE:', metrics.mean_absolute_error(y_test, prediction))\n",
    "print('MSE:', metrics.mean_squared_error(y_test, prediction))\n",
    "print('RMSE:', np.sqrt(metrics.mean_squared_error(y_test, prediction)))"
   ]
  },
  {
   "cell_type": "code",
   "execution_count": 114,
   "id": "5c053a2d",
   "metadata": {},
   "outputs": [
    {
     "data": {
      "text/plain": [
       "0.8088969285490176"
      ]
     },
     "execution_count": 114,
     "metadata": {},
     "output_type": "execute_result"
    }
   ],
   "source": [
    "#### Extra step-2\n",
    "metrics.r2_score(y_test, prediction)"
   ]
  },
  {
   "cell_type": "code",
   "execution_count": 115,
   "id": "ba3f134b",
   "metadata": {},
   "outputs": [],
   "source": [
    "#Pikel File for our model\n",
    "pickle.dump(reg_rf, open(\"model.pkl\", \"wb\"))"
   ]
  }
 ],
 "metadata": {
  "kernelspec": {
   "display_name": "Python 3 (ipykernel)",
   "language": "python",
   "name": "python3"
  },
  "language_info": {
   "codemirror_mode": {
    "name": "ipython",
    "version": 3
   },
   "file_extension": ".py",
   "mimetype": "text/x-python",
   "name": "python",
   "nbconvert_exporter": "python",
   "pygments_lexer": "ipython3",
   "version": "3.9.12"
  }
 },
 "nbformat": 4,
 "nbformat_minor": 5
}
